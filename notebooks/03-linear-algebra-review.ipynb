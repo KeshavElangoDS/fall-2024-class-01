{
 "cells": [
  {
   "cell_type": "markdown",
   "metadata": {},
   "source": [
    "# Linear Algebra Review\n",
    "\n",
    "Here we will review some basic linear algebra that will help us discuss fundamentals throughout the semester."
   ]
  },
  {
   "cell_type": "markdown",
   "metadata": {},
   "source": [
    " ## Scalars\n",
    "\n",
    " A scalar is a quantity that can be represented as a single number.\n",
    " \n",
    " Scalars are usually represented by non-bold, italicized letters, such as $x$ or $A$. We will follow this convention in this class.\n",
    " \n",
    " Examples of scalars include:\n",
    " * The number $2$\n",
    " * The temperature outside\n",
    " * The mass of an object\n",
    " * The variable $x \\in \\mathbb{R}$\n",
    " * The constant $A \\in \\mathbb{R}$\n",
    " * The expected value of a real-valued distribution $\\mathrm{E}[X]$\n"
   ]
  },
  {
   "cell_type": "markdown",
   "metadata": {},
   "source": [
    "## Vectors\n",
    "\n",
    "A vector is a collection of numbers (called elements) that cannot be reduced to a single number (i.e., cannot be represented as a scalar).\n",
    "\n",
    "Vectors can have a finite or infinite number of components, and can be used to represent physical or purely mathematical quantities and objects. When used to represent physical quantities, vectors represent those quantities that have a magnitude and a direction, whereas scalars represent quantities that have only a magnitude.\n",
    "\n",
    "The term vector can also be used in programming to refer to an array of numbers.\n",
    "\n",
    "Vectors are usually represented using bold, italic fonts, e.g., $\\boldsymbol{F}$. Vectors can also be represented with lines above symbols ($\\bar{F}$), or with arrows above symbols ($\\vec{F}$). We will follow the bold convention in this class.\n",
    "\n",
    "Examples of vectors include:\n",
    "\n",
    "* The quantity $\\begin{pmatrix}1&2&3\\end{pmatrix}$\n",
    "* The direction a car is accelerating in and the magnitude of that acceleration $\\boldsymbol{a} = \\begin{pmatrix}a_x&a_y&a_z\\end{pmatrix}$\n",
    "* The force applied to an object $\\boldsymbol{F} = m\\boldsymbol{a}$\n",
    "* A complex number $z = x + iy$\n",
    "* The variable $\\boldsymbol{x} = \\begin{pmatrix}x_1&\\cdots&x_N\\end{pmatrix}$\n",
    "* The weights of a discrete probability distribution, such as a 6 side weighted die with probabilities of each side occurring $\\boldsymbol{p} = \\frac{1}{12}\\begin{pmatrix}1&2&3&3&2&1\\end{pmatrix}$\n",
    "\n",
    "A vector can have real or complex elements. Note that for a vector with complex elements, its elements can also be represented as vectors.\n",
    "\n",
    "In some cases it is helpful to think of a function as a vector with infinitely many components (although this is not always rigorous).\n",
    "\n",
    "Vectors can be written horizontally as row vectors,\n",
    "\n",
    "$$\n",
    "\\boldsymbol{x} = \\begin{pmatrix}x_1&\\cdots&x_N\\end{pmatrix},\n",
    "$$\n",
    "\n",
    "and vertically as column vectors,\n",
    "\n",
    "$$\n",
    "\\boldsymbol{x} = \\begin{pmatrix}x_1\\\\\\vdots\\\\x_N\\end{pmatrix}.\n",
    "$$\n",
    "\n",
    "We can describe the shape of a vector by describing the set of vectors it is drawn from. We use a blackboard bolded symbol to denote the type of scalars its elements are comprised of (e.g., integers, reals) and a pair of superscripts to denote the shape of the vector. The first superscript always denotes the number of rows and the second superscript always denotes the number of columns. Since a vector always represents a 1-dimensional array of elements, either the number of rows or the number of columns will always be 1.\n",
    "\n",
    "To say that a vector is real valued and has a 1 row and 3 columns we write\n",
    "$$\n",
    "\\boldsymbol{x} \\in \\mathbb{R}^{1\\times3},\\ \\boldsymbol{x} = \\begin{pmatrix}x_1&x_2&x_3\\end{pmatrix}.\n",
    "$$\n",
    "To say that a vector is complex valued and has a 3 rows and 1 column we write\n",
    "$$\n",
    "\\boldsymbol{z} \\in \\mathbb{C}^{3\\times1},\\ \\boldsymbol{z} = \\begin{pmatrix}z_1\\\\z_2\\\\z_3\\end{pmatrix}.\n",
    "$$\n",
    "\n",
    "In Python, `numpy` is usually the library of choice for working with vectors. If `numpy` is unfamiliar, it will be reviewed in detail in a later class.\n"
   ]
  },
  {
   "cell_type": "code",
   "execution_count": 1,
   "metadata": {},
   "outputs": [
    {
     "name": "stdout",
     "output_type": "stream",
     "text": [
      "[1 2 3]\n",
      "[0.  0.1 0.2 0.3 0.4 0.5 0.6 0.7 0.8 0.9]\n",
      "[0.         0.11111111 0.22222222 0.33333333 0.44444444 0.55555556\n",
      " 0.66666667 0.77777778 0.88888889 1.        ]\n"
     ]
    }
   ],
   "source": [
    "import numpy as np\n",
    "\n",
    "example_array = np.array([1, 2, 3])\n",
    "example_arange_array = np.arange(0, 1, 0.1)  # Start, Stop, Step\n",
    "example_linspace_array = np.linspace(\n",
    "    0, 1, 10\n",
    ")  # Start, Stop, Number of Elements\n",
    "\n",
    "print(example_array)\n",
    "print(example_arange_array)\n",
    "print(example_linspace_array)"
   ]
  },
  {
   "cell_type": "markdown",
   "metadata": {},
   "source": [
    "## Vector Operations\n",
    "\n",
    "Performing operations on vectors is useful both for providing a concise description of potentially many arithmetic operations and for representing phenomena in the physical world. Some vector operations are performed elementwise (where each element of one vector is combined with each element of another vector to create a new vector of the same size and shape) and some vector operations are performed by applying a special order of operations.\n",
    "\n",
    "### Transpose\n",
    "\n",
    "Transposing a vector converts a row vector to a column vector.\n",
    "\n",
    "$$\n",
    "\\begin{align*}\n",
    "\\boldsymbol{x} &= \\begin{pmatrix}x_1&\\cdots&x_N\\end{pmatrix} \\\\\n",
    "\\boldsymbol{x}^\\mathrm{T} &= \\begin{pmatrix}x_1\\\\ \\vdots \\\\ x_N\\end{pmatrix}\n",
    "\\end{align*}\n",
    "$$\n",
    "\n",
    "Transpose is implemented in `numpy` with the `.T` operator. Note the example array has to be represented as a 2D array for the transpose operation to have an effect."
   ]
  },
  {
   "cell_type": "code",
   "execution_count": 2,
   "metadata": {},
   "outputs": [
    {
     "name": "stdout",
     "output_type": "stream",
     "text": [
      "[[1 2 3]]\n",
      "[[1]\n",
      " [2]\n",
      " [3]]\n"
     ]
    }
   ],
   "source": [
    "example_array = np.array(\n",
    "    [\n",
    "        [1, 2, 3],\n",
    "    ]\n",
    ")\n",
    "\n",
    "print(example_array)\n",
    "print(example_array.T)"
   ]
  },
  {
   "cell_type": "markdown",
   "metadata": {},
   "source": [
    "## Euclidean Norm and $L^p$ Norm\n",
    "\n",
    "The length of a vector has several definitions. The most intuitive is the L-2 norm, or Euclidean norm.\n",
    "\n",
    "The Euclidean norm is the measure of distance we are most familiar with in the everyday space we live in.\n",
    "\n",
    "To compute the distance between two points on a flat surface, $\\boldsymbol{a} = (x_a, y_a),\\ \\boldsymbol{b} = (x_b, y_b)$, we are familiar with the formula\n",
    "\n",
    "$$\n",
    "\\begin{align*}\n",
    "d = \\sqrt{{\\Delta x}^2 + {\\Delta y}^2}\n",
    "\\end{align*}\n",
    "$$\n",
    "\n",
    "where\n",
    "\n",
    "$$\n",
    "\\begin{align*}\n",
    "\\Delta x &= x_b - x_a, \\\\\n",
    "\\Delta y &= y_b - y_a.\n",
    "\\end{align*}\n",
    "$$\n",
    "\n",
    "This familiar formula is called the L-2 Norm. For a vector\n",
    "\n",
    "$$\n",
    "\\boldsymbol{x} = \\begin{pmatrix}x_1&\\cdots&x_N\\end{pmatrix}\n",
    "$$\n",
    "\n",
    "the L-2 norm is defined\n",
    "\n",
    "$$\n",
    "\\begin{align*}\n",
    "\\|\\boldsymbol{x}\\|_2 &= \\sqrt{x \\cdot x}, \\\\\n",
    "        &= \\sqrt{x^Tx}, \\\\\n",
    "        &= \\sqrt{\\sum_i x_i^2}, \\\\\n",
    "        &= {\\left( x_1^2 + \\cdots + x_N^2 \\right)}^{1/2}. \\\\\n",
    "\\end{align*}\n",
    "$$\n",
    "\n",
    "More generally, we sometimes refer to an $L^p$ norm, defined by\n",
    "\n",
    "$$\n",
    "\\begin{align*}\n",
    "\\|\\boldsymbol{x}\\|_p &= {\\lparen x_1^p + \\cdots + x_N^p \\rparen}^{1/p}, \\\\\n",
    "    &= {\\left( \\sum_i |x_i|^{p} \\right)}^{1/p}.\n",
    "\\end{align*}\n",
    "$$\n",
    "\n",
    "Take the limit as $p \\to \\infty$ gives the $L^{\\infty}$-norm,\n",
    "\n",
    "$$\n",
    "\\|\\boldsymbol{x}\\|_{\\infty} = \\mathrm{max}\\{|x_1|, \\cdots, |x_N|\\}.\n",
    "$$\n"
   ]
  },
  {
   "cell_type": "markdown",
   "metadata": {},
   "source": [
    "### Addition and Subtraction\n",
    "\n",
    "Vectors are added and subtracted by adding or subtracting their elements.\n",
    "\n",
    "$$\n",
    "\\begin{align*}\n",
    "\\boldsymbol{z} &= \\boldsymbol{x} \\pm \\boldsymbol{y} \\\\\n",
    "    &= \\begin{pmatrix}x_1 \\pm y_1 & \\cdots & x_N \\pm y_N\\end{pmatrix}\n",
    "\\end{align*}\n",
    "$$\n"
   ]
  },
  {
   "cell_type": "code",
   "execution_count": 3,
   "metadata": {},
   "outputs": [
    {
     "name": "stdout",
     "output_type": "stream",
     "text": [
      "[2 4 6]\n",
      "[0 0 0]\n"
     ]
    }
   ],
   "source": [
    "x = np.array([1, 2, 3])\n",
    "y = np.array([1, 2, 3])\n",
    "z = x + y\n",
    "print(z)\n",
    "z = x - y\n",
    "print(z)"
   ]
  },
  {
   "cell_type": "markdown",
   "metadata": {},
   "source": [
    "A scalar can also be added or subtracted to each element of a vector.\n",
    "\n",
    " $$\n",
    " \\begin{align*}\n",
    " y &= \\boldsymbol{x} \\pm a,\\ \\boldsymbol{x} \\in \\mathbb{R}^{1 \\times N},\\ a \\in \\mathbb{R} \\\\\n",
    "   &= \\begin{pmatrix}x_1 \\pm a&\\cdots&x_N \\pm a\\end{pmatrix}\n",
    " \\end{align*}\n",
    " $$"
   ]
  },
  {
   "cell_type": "code",
   "execution_count": 4,
   "metadata": {},
   "outputs": [
    {
     "name": "stdout",
     "output_type": "stream",
     "text": [
      "[3 4 5]\n"
     ]
    }
   ],
   "source": [
    "x = np.array([1, 2, 3])\n",
    "a = 2\n",
    "y = x + a\n",
    "print(y)"
   ]
  },
  {
   "cell_type": "markdown",
   "metadata": {},
   "source": [
    "### Scalar Multiplication and Division\n",
    "\n",
    "A vector can be multiplied or divided by a scalar by applying the scalar multiplication or division to each element of the vector.\n",
    "\n",
    "$$\n",
    "\\begin{align*}\n",
    "\\boldsymbol{y} &= a\\boldsymbol{x}\\\\\n",
    "  &= a\\begin{pmatrix}x_1&\\cdots&x_N\\end{pmatrix} \\\\\n",
    "  &= \\begin{pmatrix}a x_1&\\cdots&a x_N\\end{pmatrix}\n",
    "\\end{align*}\n",
    "$$\n",
    "\n",
    "### Elementwise Multiplication and Division\n",
    "\n",
    "Two vectors of the same shape can also be multiplied or divided elementwise. This is a common operation in computing. In math, this is called a Hadamard product. The Hadamard product is often denoted with a circle, i.e., $\\circ$.\n",
    "\n",
    "For two vectors\n",
    "$$\n",
    "\\boldsymbol{x} = \\begin{pmatrix}x_1&\\cdots&x_N\\end{pmatrix},\\ \\boldsymbol{y} = \\begin{pmatrix}y_1&\\cdots&y_N\\end{pmatrix},\n",
    "$$\n",
    "their Hadamard product is given by\n",
    "$$\n",
    "\\boldsymbol{x} \\circ \\boldsymbol{y} = \\begin{pmatrix}x_1 y_1 & \\cdots & x_N y_N\\end{pmatrix}.\n",
    "$$\n",
    "\n",
    "It is important to be mindful of whether a `numpy` operation is implementing a matrix product or a Hadamard product.\n"
   ]
  },
  {
   "cell_type": "code",
   "execution_count": 5,
   "metadata": {},
   "outputs": [
    {
     "name": "stdout",
     "output_type": "stream",
     "text": [
      "[2 4 6]\n",
      "[1 4 9]\n"
     ]
    }
   ],
   "source": [
    "x = np.array([1, 2, 3])\n",
    "y = np.array([1, 2, 3])\n",
    "a = 2\n",
    "x_times_a = x * a\n",
    "x_times_y_elementwise = x * y\n",
    "print(x_times_a)\n",
    "print(x_times_y_elementwise)"
   ]
  },
  {
   "cell_type": "markdown",
   "metadata": {},
   "source": [
    "### Dot Product\n",
    "\n",
    "The dot product (also called inner-product) accepts two vectors of the same length as input and returns a scalar. The dot product is computed by performing an elementwise product and then computing the sum of the elements of the resulting vector.\n",
    "\n",
    "For two vectors\n",
    "\n",
    "$$\n",
    "\\begin{align*}\n",
    "x = \\begin{pmatrix}x_1&\\cdots&x_N\\end{pmatrix},\\ y = \\begin{pmatrix}y_1&\\cdots&y_N\\end{pmatrix}\n",
    "\\end{align*}\n",
    "$$\n",
    "the dot product is computed as\n",
    "$$\n",
    "\\begin{align*}\n",
    "\\boldsymbol{x} \\cdot \\boldsymbol{y} &= \\sum_{i=1}^N x_i y_i, \\\\\n",
    "    &= x_1 y_1 + \\cdots + x_N y_N.\n",
    "\\end{align*}\n",
    "$$\n",
    "\n",
    "Alternatively, the dot product can be thought of as a matrix multiplication,\n",
    "\n",
    "$$\n",
    "\\boldsymbol{x} \\cdot \\boldsymbol{y} = \\boldsymbol{x}^{\\mathrm{T}}\\boldsymbol{y}.\n",
    "$$\n",
    "\n",
    "The dot product is related to the angle between two vectors by\n",
    "\n",
    "$$\n",
    "\\boldsymbol{x} \\cdot \\boldsymbol{y} = \\| \\boldsymbol{x} \\| \\| \\boldsymbol{y} \\| \\cos \\theta\n",
    "$$\n",
    "\n",
    "where $\\theta$ is the angle between the two vectors.\n",
    "\n",
    "The dot product is ubiquitous in machine learning with many applications, including:\n",
    "* Multiplying a vector of weights $\\boldsymbol{w}$ against a vector of inputs $\\boldsymbol{x}$, i.e., $\\boldsymbol{y} = \\boldsymbol{w}\\boldsymbol{x} + b$\n",
    "* Checking the similarity between two vectors\n",
    "* Use in the attention mechanisms of transformers\n",
    "\n",
    "If some of these uses of the dot product are unfamiliar right now, that is ok. We will build up to them in later classes. For now it is important to be comfortable computing the dot product."
   ]
  },
  {
   "cell_type": "code",
   "execution_count": 6,
   "metadata": {},
   "outputs": [
    {
     "name": "stdout",
     "output_type": "stream",
     "text": [
      "14\n"
     ]
    }
   ],
   "source": [
    "x = np.array([1, 2, 3])\n",
    "y = np.array([1, 2, 3])\n",
    "\n",
    "x_dot_y = np.dot(x, y)\n",
    "\n",
    "print(x_dot_y)"
   ]
  },
  {
   "cell_type": "markdown",
   "metadata": {},
   "source": [
    "### Cross Product\n",
    "\n",
    "The cross product or vector product accepts two vectors (usually three-dimensional vectors in Euclidean space) and returns a vector of the same size as output. The cross product is defined by\n",
    "\n",
    "$$\n",
    "\\boldsymbol{x} \\times \\boldsymbol{y} = \\|\\boldsymbol{x}\\| \\| \\boldsymbol{y} \\| \\sin \\left(\\theta\\right) \\boldsymbol{n}\n",
    "$$\n",
    "\n",
    "where $\\theta$ is the angle between $\\boldsymbol{x}$ and $\\boldsymbol{y}$ in the plane they span and $\\boldsymbol{n}$ is the unit vector perpendicular to $\\boldsymbol{x}$ and $\\boldsymbol{y}$, according to the right hand rule.\n",
    "\n",
    "The cross product can most intuitively be thought of as producing the vector which points out of a plane given two vectors which span that plane. If this sounds ambiguous, it is! We use the right hand rule resolve the ambiguity. If we are computing $\\boldsymbol{c} = \\boldsymbol{a} \\times \\boldsymbol{b}$, then we can imagine $\\boldsymbol{c}$ pointing in the direction of our thumb if $\\boldsymbol{a}$ and $\\boldsymbol{b}$ are pointing in the directions of our second and third fingers respectively.\n",
    "\n",
    "The cross product has fewer applications in machine learning than the dot product. However, it is important in engineering, 3D graphics, and physics, and so it is encountered often in applied machine learning, and important to know for this reason."
   ]
  },
  {
   "cell_type": "markdown",
   "metadata": {},
   "source": [
    "## Matrices\n",
    "\n",
    "A matrix is a rectangular array of numbers used to represent a mathematical or physical object, or the properties of a mathematical or physical object. Unlike a vector which can only have 1 row and $N$ columns, or $N$ rows and 1 column, a matrix can have $N$ rows and $M$ columns.\n",
    "\n",
    "Matrices are usually denoted by capital letters. In this class, matrices will be capital letters, bolded and italicized, e.g., $\\boldsymbol{A}$.\n",
    "\n",
    "We can use a shorthand to denote the elements of a matrix, e.g.,\n",
    "\n",
    "$$\n",
    "\\boldsymbol{A} = \\begin{bmatrix}a_{ij}\\end{bmatrix}_{1\\leq i \\leq N, 1 \\leq j \\leq M},\n",
    "$$\n",
    "\n",
    "which is equivalent to\n",
    "\n",
    "$$\n",
    "\\boldsymbol{A} = \\begin{pmatrix}\n",
    "a_{1,1}& \\cdots & a_{1,M} \\\\\n",
    "\\vdots& \\ddots & \\vdots \\\\\n",
    "a_{N,1}& \\cdots & a_{N,M} \\\\\n",
    "\\end{pmatrix}\n",
    "$$\n",
    "\n",
    "Matrices naturally arise anywhere it makes sense to organize data into a 2 dimensional grid. The following are all examples of matrices.\n",
    "\n",
    "The position $\\boldsymbol{p}=\\begin{pmatrix}p_x&p_y&p_z\\end{pmatrix}$ of an object measured at $N$ points in time can be represented as an $N \\times 3$ matrix,\n",
    "\n",
    "$$\n",
    "\\boldsymbol{P} =\n",
    "\\begin{pmatrix}\n",
    "p_x(t_1) & p_y(t_1) & p_z(t_1) \\\\\n",
    "\\vdots & \\vdots & \\vdots \\\\\n",
    "p_x(t_N) & p_y(t_N) & p_z(t_N) \\\\\n",
    "\\end{pmatrix}.\n",
    "$$\n",
    "\n",
    "The correlation of each pair of random variables, $X_i, X_j$ in a random vector of $N$ random variables, $\\mathbf{X} = \\begin{pmatrix}X_1&\\cdots&X_N\\end{pmatrix}$ can be represented as an $N \\times N$ matrix,\n",
    "\n",
    "$$\n",
    "\\boldsymbol{C} = \\begin{bmatrix}c_{ij}\\end{bmatrix}_{1 \\leq i,j \\leq N},\\ c_{ij} = \\mathrm{corr}\\left(X_i, X_j\\right).\n",
    "$$\n",
    "\n",
    "\n",
    "The adjacency matrix specifies, for a graph with $N$ vertices, whether or not each vertex is connected to each other vertex. For example,\n",
    "\n",
    "$$\n",
    "\\boldsymbol{A} =\n",
    "\\begin{pmatrix}\n",
    "0&1&1 \\\\\n",
    "1&0&1 \\\\\n",
    "1&1&0\n",
    "\\end{pmatrix},\n",
    "$$\n",
    "\n",
    "specifies a fully connected graph with $N=3$ vertices.\n",
    "\n",
    "We can describe the shape of a matrix by describing the set of matrices it is drawn from. As with vectors, we use a blackboard bolded symbol to denote the type of scalars its elements are comprised of (e.g., integers, reals) and a pair of superscripts to denote the shape of the matrix. The first superscript always denotes the number of rows and the second superscript always denotes the number of columns.\n",
    "\n",
    "To say that a matrix is real valued and has a 2 rows and 3 columns we write\n",
    "$$\n",
    "\\boldsymbol{X} \\in \\mathbb{R}^{2\\times3},\\\n",
    "\\boldsymbol{X} = \\begin{pmatrix}\n",
    "    x_{1,1}&x_{1,2}&x_{1,3}\\\\\n",
    "    x_{2,1}&x_{2,2}&x_{2,3}\\\\\n",
    "\\end{pmatrix}.\n",
    "$$\n",
    "\n",
    "Note that the subscripts of the indices follow the row, column convention.\n",
    "\n",
    "To say that a matrix is complex valued and has a 3 rows and 2 columns we write\n",
    "\n",
    "$$\n",
    "\\boldsymbol{Z} \\in \\mathbb{C}^{3\\times2},\\\n",
    "\\boldsymbol{Z} = \\begin{pmatrix}\n",
    "    z_{1,1}&z_{1,2}\\\\\n",
    "    z_{2,1}&z_{2,2}\\\\\n",
    "    z_{3,1}&z_{3,2}\\\\\n",
    "\\end{pmatrix}.\n",
    "$$\n",
    "\n",
    "In Python, `numpy` is usually the library of choice for working with matrices. Some basic examples are below. An in depth review will be covered in a later class."
   ]
  },
  {
   "cell_type": "code",
   "execution_count": 7,
   "metadata": {},
   "outputs": [
    {
     "name": "stdout",
     "output_type": "stream",
     "text": [
      "[[1 2 3]\n",
      " [4 5 6]\n",
      " [7 8 9]]\n"
     ]
    }
   ],
   "source": [
    "example_array = np.array([[1, 2, 3], [4, 5, 6], [7, 8, 9]])\n",
    "\n",
    "print(example_array)"
   ]
  },
  {
   "cell_type": "markdown",
   "metadata": {},
   "source": [
    "## Matrix Operations\n",
    "\n",
    "Like vector operations, matrix operations are useful both for providing a concise description of potentially many arithmetic operations and for representing phenomena in the physical world. Also like vector operations, some matrix operations are performed elementwise (where each element of one matrix is combined with each element of another matrix to create a new matrix of the same size and shape) and some matrix operations are performed by applying a special order of operations. In general, formulating many arithmetic operations as matrix operations can help speed them up, by taking advantage of parallel computing techniques, like vectorized CPU operations or GPU operations. We will cover parallel operations in a later class, but for now it is helpful to know that one of the benefits of formulating computations as matrix operations is a speed benefit through parallel processing. \n",
    "\n",
    "### Addition and Subtractions\n",
    "\n",
    "Like vectors, matrices are added and subtracted by adding and subtracting their elements.\n",
    "\n",
    "Using shorthand notation, to perform\n",
    "\n",
    "$$\n",
    "\\boldsymbol{Z} = \\boldsymbol{X} \\pm \\boldsymbol{Y}\n",
    "$$\n",
    "\n",
    "we can add or subtract the elements,\n",
    "\n",
    "$$\n",
    "\\begin{bmatrix}z_{ij}\\end{bmatrix} = \\begin{bmatrix}x_{ij} \\pm y_{ij}\\end{bmatrix}.\n",
    "$$\n",
    "\n",
    "Matrix addition and subtraction is straightforward with `numpy`."
   ]
  },
  {
   "cell_type": "code",
   "execution_count": 11,
   "metadata": {},
   "outputs": [
    {
     "name": "stdout",
     "output_type": "stream",
     "text": [
      "[[ 2  3  4]\n",
      " [ 5  6  7]\n",
      " [ 8  9 10]]\n"
     ]
    }
   ],
   "source": [
    "x_example_matrix = np.array([[1, 2, 3], [4, 5, 6], [7, 8, 9]])\n",
    "y_example_matrix = np.array([[1, 1, 1], [1, 1, 1], [1, 1, 1]])\n",
    "z_example_matrix = x_example_matrix + y_example_matrix\n",
    "print(z_example_matrix)"
   ]
  },
  {
   "cell_type": "markdown",
   "metadata": {},
   "source": [
    "### Scalar Multiplication and Division\n",
    "\n",
    "Also like vectors, we can multiply or divide a matrix by a scalar by multiplying or dividing its elements by a scalar.\n",
    "\n",
    "To perform the multiplication\n",
    "\n",
    "$$\n",
    "\\boldsymbol{Y} = a\\boldsymbol{X}\n",
    "$$\n",
    "\n",
    "we can multiply each element of $\\boldsymbol{X}$ by $a$,\n",
    "\n",
    "$$\n",
    "\\begin{bmatrix}y_{ij}\\end{bmatrix} = \\begin{bmatrix}a x_{ij}\\end{bmatrix}.\n",
    "$$\n",
    "\n",
    "Scalar multiplication and division in `numpy` is performed by using Pythons multiplication (`*`) and division operators (`/`) to multiply or divide a matrix by a single number."
   ]
  },
  {
   "cell_type": "code",
   "execution_count": 12,
   "metadata": {},
   "outputs": [
    {
     "name": "stdout",
     "output_type": "stream",
     "text": [
      "[[ 2  4  6]\n",
      " [ 8 10 12]\n",
      " [14 16 18]]\n"
     ]
    }
   ],
   "source": [
    "x_example_matrix = np.array([[1, 2, 3], [4, 5, 6], [7, 8, 9]])\n",
    "a_example_constant = 10\n",
    "y_example_matrix = x_example_matrix * a\n",
    "print(y_example_matrix)"
   ]
  },
  {
   "cell_type": "markdown",
   "metadata": {},
   "source": [
    "### Elementwise Multiplication and Division\n",
    "\n",
    "Elementwise multiplication or division of matrices is often called a Hadamard product. The Hadamard product is a common step in algorithms. For example, the Hadamard product can specify applying a mask to remove some elements of a matrix by setting them to 0.\n",
    "\n",
    "As with vectors, the Hadamard product is denoted using a circle, $\\circ$.\n",
    "\n",
    "Using shorthand, the computation of the Hadamard product\n",
    "\n",
    "$$\n",
    "\\boldsymbol{Z} = \\boldsymbol{X} \\circ \\boldsymbol{Y}\n",
    "$$\n",
    "\n",
    "is given by\n",
    "\n",
    "$$\n",
    "\\begin{bmatrix}z_{ij}\\end{bmatrix} = \\begin{bmatrix}x_{ij} y_{ij}\\end{bmatrix}.\n",
    "$$\n",
    "\n",
    "In `numpy` the `*` operator specifies a Hadamard product."
   ]
  },
  {
   "cell_type": "code",
   "execution_count": 14,
   "metadata": {},
   "outputs": [
    {
     "name": "stdout",
     "output_type": "stream",
     "text": [
      "[[1 2 3]\n",
      " [0 0 0]\n",
      " [7 8 9]]\n"
     ]
    }
   ],
   "source": [
    "x_example_matrix = np.array([[1, 2, 3], [4, 5, 6], [7, 8, 9]])\n",
    "y_example_matrix = np.array([[1, 1, 1], [0, 0, 0], [1, 1, 1]])\n",
    "z_example_matrix = x_example_matrix * y_example_matrix\n",
    "print(z_example_matrix)"
   ]
  },
  {
   "cell_type": "markdown",
   "metadata": {},
   "source": [
    "### Matrix Multiplication\n",
    "\n",
    "So long as the dot product is second nature, it is easy to define and compute matrix multiplication.\n",
    "\n",
    "Order matters for matrix multiplication; i.e., matrix multiplication is not commutative.\n",
    "\n",
    "Provided the left matrix has the same number of columns as the right matrix has rows, matrix multiplication is computed by taking the dot product of each row of the left matrix with each column of the right matrix.\n",
    "\n",
    "For two matrices $\\boldsymbol{R}$ and $\\boldsymbol{C}$ where\n",
    "\n",
    "$$\n",
    "\\begin{align}\n",
    "\\boldsymbol{R} &\\in \\mathbb{R}^{L \\times M}, \\\\\n",
    "\\boldsymbol{C} &\\in \\mathbb{R}^{M \\times N},\n",
    "\\end{align}\n",
    "$$\n",
    "\n",
    "the product $\\boldsymbol{P} = \\boldsymbol{R}\\boldsymbol{C}$ is given by\n",
    "\n",
    "$$\n",
    "\\begin{pmatrix}\n",
    "r_1 \\cdot c_1 & \\cdots & r_1 \\cdot c_N \\\\\n",
    "\\vdots & \\ddots & \\vdots \\\\\n",
    "r_L \\cdot c_1 & \\cdots & r_L \\cdot c_N\n",
    "\\end{pmatrix}\n",
    "\n",
    "=\n",
    "\\begin{pmatrix}\n",
    "\\leftarrow & r_1 & \\rightarrow \\\\\n",
    "\\vdots & \\vdots & \\vdots \\\\\n",
    "\\leftarrow & r_L & \\rightarrow \\\\\n",
    "\\end{pmatrix}\n",
    "\n",
    "\\begin{pmatrix}\n",
    "\\uparrow & \\cdots & \\uparrow \\\\\n",
    "\\boldsymbol{c_1} & \\cdots & \\boldsymbol{c_N} \\\\\n",
    "\\downarrow & \\cdots & \\downarrow\n",
    "\\end{pmatrix}\n",
    "$$\n",
    "\n",
    "where $r_l \\cdot c_n$ is the dot product of row $l$ in $\\boldsymbol{R}$ with column $n$ in $C$.\n",
    "\n",
    "Matrix multiplication can be performed in `numpy` using the `@` operator or the `dot()` function."
   ]
  },
  {
   "cell_type": "code",
   "execution_count": 17,
   "metadata": {},
   "outputs": [
    {
     "name": "stdout",
     "output_type": "stream",
     "text": [
      "[[22 28]\n",
      " [49 64]]\n",
      "[[22 28]\n",
      " [49 64]]\n"
     ]
    }
   ],
   "source": [
    "r_example_matrix = np.array([[1, 2, 3], [4, 5, 6]])\n",
    "c_example_matrix = np.array([[1, 2], [3, 4], [5, 6]])\n",
    "p_example_matrix_product = r_example_matrix @ c_example_matrix\n",
    "print(p_example_matrix_product)\n",
    "p_example_matrix_product_via_dot = np.dot(r_example_matrix, c_example_matrix)\n",
    "print(p_example_matrix_product_via_dot)"
   ]
  }
 ],
 "metadata": {
  "kernelspec": {
   "display_name": "Python 3",
   "language": "python",
   "name": "python3"
  },
  "language_info": {
   "codemirror_mode": {
    "name": "ipython",
    "version": 3
   },
   "file_extension": ".py",
   "mimetype": "text/x-python",
   "name": "python",
   "nbconvert_exporter": "python",
   "pygments_lexer": "ipython3",
   "version": "3.12.1"
  }
 },
 "nbformat": 4,
 "nbformat_minor": 2
}
