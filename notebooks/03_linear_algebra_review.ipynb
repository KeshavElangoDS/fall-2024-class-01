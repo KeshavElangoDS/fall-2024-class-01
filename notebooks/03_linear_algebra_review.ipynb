{
 "cells": [
  {
   "cell_type": "markdown",
   "metadata": {},
   "source": [
    "# Linear Algebra Review\n",
    "\n",
    "Here we will review some basic linear algebra that will help us discuss fundamentals throughout the semester.\n",
    "\n",
    "We will use some basic Python libraries to help with this (`numpy` and `matplotlib`). If these are unfamiliar, that is ok. We will review Python and associated libraries in a later class."
   ]
  },
  {
   "cell_type": "code",
   "execution_count": 1,
   "metadata": {},
   "outputs": [],
   "source": [
    "%load_ext autoreload\n",
    "%autoreload 2\n",
    "%matplotlib widget"
   ]
  },
  {
   "cell_type": "markdown",
   "metadata": {},
   "source": [
    " ## Scalars\n",
    "\n",
    " A scalar is a quantity that can be represented as a single number.\n",
    " \n",
    " Scalars are usually represented by non-bold, italicized letters, such as $x$ or $A$. We will follow this convention in this class.\n",
    " \n",
    " Examples of scalars include:\n",
    " * The number $2$\n",
    " * The temperature outside\n",
    " * The mass of an object\n",
    " * The variable $x \\in \\mathbb{R}$\n",
    " * The constant $A \\in \\mathbb{R}$\n",
    " * The expected value of a real-valued distribution $\\mathrm{E}[X]$\n"
   ]
  },
  {
   "cell_type": "markdown",
   "metadata": {},
   "source": [
    "## Vectors\n",
    "\n",
    "A vector is a collection of numbers (called elements) that cannot be reduced to a single number (i.e., cannot be represented as a scalar).\n",
    "\n",
    "Vectors can have a finite or infinite number of components, and can be used to represent physical or purely mathematical quantities and objects. When used to represent physical quantities, vectors represent those quantities that have a magnitude and a direction, whereas scalars represent quantities that have only a magnitude.\n",
    "\n",
    "The term vector can also be used in programming to refer to an array of numbers.\n",
    "\n",
    "Vectors are usually represented using bold, italic fonts, e.g., $\\boldsymbol{F}$. Vectors can also be represented with lines above symbols ($\\bar{F}$), or with arrows above symbols ($\\vec{F}$). We will follow the bold convention in this class.\n",
    "\n",
    "Examples of vectors include:\n",
    "\n",
    "* The quantity $\\begin{pmatrix}1&2&3\\end{pmatrix}$\n",
    "* The direction a car is accelerating in and the magnitude of that acceleration $\\boldsymbol{a} = \\begin{pmatrix}a_x&a_y&a_z\\end{pmatrix}$\n",
    "* The force applied to an object $\\boldsymbol{F} = m\\boldsymbol{a}$\n",
    "* A complex number $z = x + iy$\n",
    "* The variable $\\boldsymbol{x} = \\begin{pmatrix}x_1&\\cdots&x_N\\end{pmatrix}$\n",
    "* The weights of a discrete probability distribution, such as a 6 side weighted die with probabilities of each side occurring $\\boldsymbol{p} = \\frac{1}{12}\\begin{pmatrix}1&2&3&3&2&1\\end{pmatrix}$\n",
    "\n",
    "A vector can have real or complex elements. Note that for a vector with complex elements, its elements can also be represented as vectors.\n",
    "\n",
    "In some cases it is helpful to think of a function as a vector with infinitely many components (although this is not always rigorous).\n",
    "\n",
    "Vectors can be written horizontally as row vectors,\n",
    "\n",
    "$$\n",
    "\\boldsymbol{x} = \\begin{pmatrix}x_1&\\cdots&x_N\\end{pmatrix},\n",
    "$$\n",
    "\n",
    "and vertically as column vectors,\n",
    "\n",
    "$$\n",
    "\\boldsymbol{x} = \\begin{pmatrix}x_1\\\\\\vdots\\\\x_N\\end{pmatrix}.\n",
    "$$\n",
    "\n",
    "We can describe the shape of a vector by describing the set of vectors it is drawn from. We use a blackboard bolded symbol to denote the type of scalars its elements are comprised of (e.g., integers, reals) and a pair of superscripts to denote the shape of the vector. The first superscript always denotes the number of rows and the second superscript always denotes the number of columns. Since a vector always represents a 1-dimensional array of elements, either the number of rows or the number of columns will always be 1.\n",
    "\n",
    "To say that a vector is real valued and has a 1 row and 3 columns we write\n",
    "$$\n",
    "\\boldsymbol{x} \\in \\mathbb{R}^{1\\times3},\\ \\boldsymbol{x} = \\begin{pmatrix}x_1&x_2&x_3\\end{pmatrix}.\n",
    "$$\n",
    "To say that a vector is complex valued and has a 3 rows and 1 column we write\n",
    "$$\n",
    "\\boldsymbol{z} \\in \\mathbb{C}^{3\\times1},\\ \\boldsymbol{z} = \\begin{pmatrix}z_1\\\\z_2\\\\z_3\\end{pmatrix}.\n",
    "$$\n",
    "\n",
    "In Python, `numpy` is usually the library of choice for working with vectors. If `numpy` is unfamiliar, it will be reviewed in detail in a later class.\n"
   ]
  },
  {
   "cell_type": "code",
   "execution_count": 2,
   "metadata": {},
   "outputs": [
    {
     "name": "stdout",
     "output_type": "stream",
     "text": [
      "[1 2 3]\n",
      "[0.  0.1 0.2 0.3 0.4 0.5 0.6 0.7 0.8 0.9]\n",
      "[0.         0.11111111 0.22222222 0.33333333 0.44444444 0.55555556\n",
      " 0.66666667 0.77777778 0.88888889 1.        ]\n"
     ]
    }
   ],
   "source": [
    "import numpy as np\n",
    "\n",
    "example_array = np.array([1, 2, 3])\n",
    "example_arange_array = np.arange(0, 1, 0.1)  # Start, Stop, Step\n",
    "example_linspace_array = np.linspace(\n",
    "    0, 1, 10\n",
    ")  # Start, Stop, Number of Elements\n",
    "\n",
    "print(example_array)\n",
    "print(example_arange_array)\n",
    "print(example_linspace_array)"
   ]
  },
  {
   "cell_type": "markdown",
   "metadata": {},
   "source": [
    "## Vector Operations\n",
    "\n",
    "Performing operations on vectors is useful both for providing a concise description of potentially many arithmetic operations and for representing phenomena in the physical world. Some vector operations are performed elementwise (where each element of one vector is combined with each element of another vector to create a new vector of the same size and shape) and some vector operations are performed by applying a special order of operations.\n",
    "\n",
    "### Transpose\n",
    "\n",
    "Transposing a vector converts a row vector to a column vector.\n",
    "\n",
    "$$\n",
    "\\begin{align*}\n",
    "\\boldsymbol{x} &= \\begin{pmatrix}x_1&\\cdots&x_N\\end{pmatrix} \\\\\n",
    "\\boldsymbol{x}^\\mathrm{T} &= \\begin{pmatrix}x_1\\\\ \\vdots \\\\ x_N\\end{pmatrix}\n",
    "\\end{align*}\n",
    "$$\n",
    "\n",
    "Transpose is implemented in `numpy` with the `.T` operator. Note the example array has to be represented as a 2D array for the transpose operation to have an effect."
   ]
  },
  {
   "cell_type": "code",
   "execution_count": 3,
   "metadata": {},
   "outputs": [
    {
     "name": "stdout",
     "output_type": "stream",
     "text": [
      "[[1 2 3]]\n",
      "[[1]\n",
      " [2]\n",
      " [3]]\n"
     ]
    }
   ],
   "source": [
    "example_array = np.array(\n",
    "    [\n",
    "        [1, 2, 3],\n",
    "    ]\n",
    ")\n",
    "\n",
    "print(example_array)\n",
    "print(example_array.T)"
   ]
  },
  {
   "cell_type": "markdown",
   "metadata": {},
   "source": [
    "## Euclidean Norm and $L^p$ Norm\n",
    "\n",
    "The length of a vector has several definitions. The most intuitive is the L-2 norm, or Euclidean norm.\n",
    "\n",
    "The Euclidean norm is the measure of distance we are most familiar with in the everyday space we live in.\n",
    "\n",
    "To compute the distance between two points on a flat surface, $\\boldsymbol{a} = (x_a, y_a),\\ \\boldsymbol{b} = (x_b, y_b)$, we are familiar with the formula\n",
    "\n",
    "$$\n",
    "\\begin{align*}\n",
    "d = \\sqrt{{\\Delta x}^2 + {\\Delta y}^2}\n",
    "\\end{align*}\n",
    "$$\n",
    "\n",
    "where\n",
    "\n",
    "$$\n",
    "\\begin{align*}\n",
    "\\Delta x &= x_b - x_a, \\\\\n",
    "\\Delta y &= y_b - y_a.\n",
    "\\end{align*}\n",
    "$$\n",
    "\n",
    "This familiar formula is called the L-2 Norm. For a vector\n",
    "\n",
    "$$\n",
    "\\boldsymbol{x} = \\begin{pmatrix}x_1&\\cdots&x_N\\end{pmatrix}\n",
    "$$\n",
    "\n",
    "the L-2 norm is defined\n",
    "\n",
    "$$\n",
    "\\begin{align*}\n",
    "\\|\\boldsymbol{x}\\|_2 &= \\sqrt{x \\cdot x}, \\\\\n",
    "        &= \\sqrt{x^Tx}, \\\\\n",
    "        &= \\sqrt{\\sum_i x_i^2}, \\\\\n",
    "        &= {\\left( x_1^2 + \\cdots + x_N^2 \\right)}^{1/2}. \\\\\n",
    "\\end{align*}\n",
    "$$\n",
    "\n",
    "More generally, we sometimes refer to an $L^p$ norm, defined by\n",
    "\n",
    "$$\n",
    "\\begin{align*}\n",
    "\\|\\boldsymbol{x}\\|_p &= {\\lparen x_1^p + \\cdots + x_N^p \\rparen}^{1/p}, \\\\\n",
    "    &= {\\left( \\sum_i |x_i|^{p} \\right)}^{1/p}.\n",
    "\\end{align*}\n",
    "$$\n",
    "\n",
    "Take the limit as $p \\to \\infty$ gives the $L^{\\infty}$-norm,\n",
    "\n",
    "$$\n",
    "\\|\\boldsymbol{x}\\|_{\\infty} = \\mathrm{max}\\{|x_1|, \\cdots, |x_N|\\}.\n",
    "$$\n"
   ]
  },
  {
   "cell_type": "code",
   "execution_count": 17,
   "metadata": {},
   "outputs": [
    {
     "data": {
      "application/vnd.jupyter.widget-view+json": {
       "model_id": "6f84f4caaea24f778e0f80f12e100403",
       "version_major": 2,
       "version_minor": 0
      },
      "image/png": "[encoded data removed]",
      "text/html": [
       "\n",
       "            <div style=\"display: inline-block;\">\n",
       "                <div class=\"jupyter-widgets widget-label\" style=\"text-align: center;\">\n",
       "                    Figure\n",
       "                </div>\n",
       "                <img src='data:image/png;base64,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' width=640.0/>\n",
       "            </div>\n",
       "        "
      ],
      "text/plain": [
       "Canvas(toolbar=Toolbar(toolitems=[('Home', 'Reset original view', 'home', 'home'), ('Back', 'Back to previous …"
      ]
     },
     "metadata": {},
     "output_type": "display_data"
    }
   ],
   "source": [
    "from linear_algebra_demonstrations import L2NormDemo\n",
    "\n",
    "l2_norm_demo = L2NormDemo()\n",
    "l2_norm_demo.instantiate_plot()"
   ]
  },
  {
   "cell_type": "markdown",
   "metadata": {},
   "source": [
    "### Addition and Subtraction\n",
    "\n",
    "Vectors are added and subtracted by adding or subtracting their elements.\n",
    "\n",
    "$$\n",
    "\\begin{align*}\n",
    "\\boldsymbol{z} &= \\boldsymbol{x} \\pm \\boldsymbol{y} \\\\\n",
    "    &= \\begin{pmatrix}x_1 \\pm y_1 & \\cdots & x_N \\pm y_N\\end{pmatrix}\n",
    "\\end{align*}\n",
    "$$\n"
   ]
  },
  {
   "cell_type": "code",
   "execution_count": 5,
   "metadata": {},
   "outputs": [
    {
     "name": "stdout",
     "output_type": "stream",
     "text": [
      "[2 4 6]\n",
      "[0 0 0]\n"
     ]
    }
   ],
   "source": [
    "x = np.array([1, 2, 3])\n",
    "y = np.array([1, 2, 3])\n",
    "z = x + y\n",
    "print(z)\n",
    "z = x - y\n",
    "print(z)"
   ]
  },
  {
   "cell_type": "markdown",
   "metadata": {},
   "source": [
    "A scalar can also be added or subtracted to each element of a vector.\n",
    "\n",
    " $$\n",
    " \\begin{align*}\n",
    " y &= \\boldsymbol{x} \\pm a,\\ \\boldsymbol{x} \\in \\mathbb{R}^{1 \\times N},\\ a \\in \\mathbb{R} \\\\\n",
    "   &= \\begin{pmatrix}x_1 \\pm a&\\cdots&x_N \\pm a\\end{pmatrix}\n",
    " \\end{align*}\n",
    " $$"
   ]
  },
  {
   "cell_type": "code",
   "execution_count": 6,
   "metadata": {},
   "outputs": [
    {
     "name": "stdout",
     "output_type": "stream",
     "text": [
      "[3 4 5]\n"
     ]
    }
   ],
   "source": [
    "x = np.array([1, 2, 3])\n",
    "a = 2\n",
    "y = x + a\n",
    "print(y)"
   ]
  },
  {
   "cell_type": "markdown",
   "metadata": {},
   "source": [
    "### Scalar Multiplication and Division\n",
    "\n",
    "A vector can be multiplied or divided by a scalar by applying the scalar multiplication or division to each element of the vector.\n",
    "\n",
    "$$\n",
    "\\begin{align*}\n",
    "\\boldsymbol{y} &= a\\boldsymbol{x}\\\\\n",
    "  &= a\\begin{pmatrix}x_1&\\cdots&x_N\\end{pmatrix} \\\\\n",
    "  &= \\begin{pmatrix}a x_1&\\cdots&a x_N\\end{pmatrix}\n",
    "\\end{align*}\n",
    "$$\n",
    "\n",
    "### Elementwise Multiplication and Division\n",
    "\n",
    "Two vectors of the same shape can also be multiplied or divided elementwise. This is a common operation in computing. In math, this is called a Hadamard product. The Hadamard product is often denoted with a circle, i.e., $\\circ$.\n",
    "\n",
    "For two vectors\n",
    "$$\n",
    "\\boldsymbol{x} = \\begin{pmatrix}x_1&\\cdots&x_N\\end{pmatrix},\\ \\boldsymbol{y} = \\begin{pmatrix}y_1&\\cdots&y_N\\end{pmatrix},\n",
    "$$\n",
    "their Hadamard product is given by\n",
    "$$\n",
    "\\boldsymbol{x} \\circ \\boldsymbol{y} = \\begin{pmatrix}x_1 y_1 & \\cdots & x_N y_N\\end{pmatrix}.\n",
    "$$\n",
    "\n",
    "It is important to be mindful of whether a `numpy` operation is implementing a matrix product or a Hadamard product.\n"
   ]
  },
  {
   "cell_type": "code",
   "execution_count": 7,
   "metadata": {},
   "outputs": [
    {
     "name": "stdout",
     "output_type": "stream",
     "text": [
      "[2 4 6]\n",
      "[1 4 9]\n"
     ]
    }
   ],
   "source": [
    "x = np.array([1, 2, 3])\n",
    "y = np.array([1, 2, 3])\n",
    "a = 2\n",
    "x_times_a = x * a\n",
    "x_times_y_elementwise = x * y\n",
    "print(x_times_a)\n",
    "print(x_times_y_elementwise)"
   ]
  },
  {
   "cell_type": "markdown",
   "metadata": {},
   "source": [
    "### Dot Product\n",
    "\n",
    "The dot product (also called inner-product) accepts two vectors of the same length as input and returns a scalar. The dot product is computed by performing an elementwise product and then computing the sum of the elements of the resulting vector.\n",
    "\n",
    "For two vectors\n",
    "\n",
    "$$\n",
    "\\begin{align*}\n",
    "x = \\begin{pmatrix}x_1&\\cdots&x_N\\end{pmatrix},\\ y = \\begin{pmatrix}y_1&\\cdots&y_N\\end{pmatrix}\n",
    "\\end{align*}\n",
    "$$\n",
    "the dot product is computed as\n",
    "$$\n",
    "\\begin{align*}\n",
    "\\boldsymbol{x} \\cdot \\boldsymbol{y} &= \\sum_{i=1}^N x_i y_i, \\\\\n",
    "    &= x_1 y_1 + \\cdots + x_N y_N.\n",
    "\\end{align*}\n",
    "$$\n",
    "\n",
    "Alternatively, the dot product can be thought of as a matrix multiplication,\n",
    "\n",
    "$$\n",
    "\\boldsymbol{x} \\cdot \\boldsymbol{y} = \\boldsymbol{x}^{\\mathrm{T}}\\boldsymbol{y}.\n",
    "$$\n",
    "\n",
    "The dot product is related to the angle between two vectors by\n",
    "\n",
    "$$\n",
    "\\boldsymbol{x} \\cdot \\boldsymbol{y} = \\| \\boldsymbol{x} \\| \\| \\boldsymbol{y} \\| \\cos \\theta\n",
    "$$\n",
    "\n",
    "where $\\theta$ is the angle between the two vectors.\n",
    "\n",
    "The dot product is ubiquitous in machine learning with many applications, including:\n",
    "* Multiplying a vector of weights $\\boldsymbol{w}$ against a vector of inputs $\\boldsymbol{x}$, i.e., $\\boldsymbol{y} = \\boldsymbol{w}\\boldsymbol{x} + b$\n",
    "* Checking the similarity between two vectors\n",
    "* Use in the attention mechanisms of transformers\n",
    "\n",
    "If some of these uses of the dot product are unfamiliar right now, that is ok. We will build up to them in later classes. For now it is important to be comfortable computing the dot product."
   ]
  },
  {
   "cell_type": "code",
   "execution_count": 8,
   "metadata": {},
   "outputs": [
    {
     "name": "stdout",
     "output_type": "stream",
     "text": [
      "14\n"
     ]
    }
   ],
   "source": [
    "x = np.array([1, 2, 3])\n",
    "y = np.array([1, 2, 3])\n",
    "\n",
    "x_dot_y = np.dot(x, y)\n",
    "\n",
    "print(x_dot_y)"
   ]
  },
  {
   "cell_type": "markdown",
   "metadata": {},
   "source": [
    "### Cross Product\n",
    "\n",
    "The cross product or vector product accepts two vectors (usually three-dimensional vectors in Euclidean space) and returns a vector of the same size as output. The cross product is defined by\n",
    "\n",
    "$$\n",
    "\\boldsymbol{x} \\times \\boldsymbol{y} = \\|\\boldsymbol{x}\\| \\| \\boldsymbol{y} \\| \\sin \\left(\\theta\\right) \\boldsymbol{n}\n",
    "$$\n",
    "\n",
    "where $\\theta$ is the angle between $\\boldsymbol{x}$ and $\\boldsymbol{y}$ in the plane they span and $\\boldsymbol{n}$ is the unit vector perpendicular to $\\boldsymbol{x}$ and $\\boldsymbol{y}$, according to the right hand rule.\n",
    "\n",
    "The cross product can most intuitively be thought of as producing the vector which points out of a plane given two vectors which span that plane. If this sounds ambiguous, it is! We use the right hand rule resolve the ambiguity. If we are computing $\\boldsymbol{c} = \\boldsymbol{a} \\times \\boldsymbol{b}$, then we can imagine $\\boldsymbol{c}$ pointing in the direction of our thumb if $\\boldsymbol{a}$ and $\\boldsymbol{b}$ are pointing in the directions of our second and third fingers respectively.\n",
    "\n",
    "The cross product has fewer applications in machine learning than the dot product. However, it is important in engineering, 3D graphics, and physics, and so it is encountered often in applied machine learning, and important to know for this reason."
   ]
  },
  {
   "cell_type": "markdown",
   "metadata": {},
   "source": [
    "## Matrices\n",
    "\n",
    "A matrix is a rectangular array of numbers used to represent a mathematical or physical object, or the properties of a mathematical or physical object. Unlike a vector which can only have 1 row and $N$ columns, or $N$ rows and 1 column, a matrix can have $N$ rows and $M$ columns.\n",
    "\n",
    "Matrices are usually denoted by capital letters. In this class, matrices will be capital letters, bolded and italicized, e.g., $\\boldsymbol{A}$.\n",
    "\n",
    "We can use a shorthand to denote the elements of a matrix, e.g.,\n",
    "\n",
    "$$\n",
    "\\boldsymbol{A} = \\begin{bmatrix}a_{ij}\\end{bmatrix}_{1\\leq i \\leq N, 1 \\leq j \\leq M},\n",
    "$$\n",
    "\n",
    "which is equivalent to\n",
    "\n",
    "$$\n",
    "\\boldsymbol{A} = \\begin{pmatrix}\n",
    "a_{1,1}& \\cdots & a_{1,M} \\\\\n",
    "\\vdots& \\ddots & \\vdots \\\\\n",
    "a_{N,1}& \\cdots & a_{N,M} \\\\\n",
    "\\end{pmatrix}\n",
    "$$\n",
    "\n",
    "Matrices naturally arise anywhere it makes sense to organize data into a 2 dimensional grid. The following are all examples of matrices.\n",
    "\n",
    "The position $\\boldsymbol{p}=\\begin{pmatrix}p_x&p_y&p_z\\end{pmatrix}$ of an object measured at $N$ points in time can be represented as an $N \\times 3$ matrix,\n",
    "\n",
    "$$\n",
    "\\boldsymbol{P} =\n",
    "\\begin{pmatrix}\n",
    "p_x(t_1) & p_y(t_1) & p_z(t_1) \\\\\n",
    "\\vdots & \\vdots & \\vdots \\\\\n",
    "p_x(t_N) & p_y(t_N) & p_z(t_N) \\\\\n",
    "\\end{pmatrix}.\n",
    "$$\n",
    "\n",
    "The correlation of each pair of random variables, $X_i, X_j$ in a random vector of $N$ random variables, $\\mathbf{X} = \\begin{pmatrix}X_1&\\cdots&X_N\\end{pmatrix}$ can be represented as an $N \\times N$ matrix,\n",
    "\n",
    "$$\n",
    "\\boldsymbol{C} = \\begin{bmatrix}c_{ij}\\end{bmatrix}_{1 \\leq i,j \\leq N},\\ c_{ij} = \\mathrm{corr}\\left(X_i, X_j\\right).\n",
    "$$\n",
    "\n",
    "\n",
    "The adjacency matrix specifies, for a graph with $N$ vertices, whether or not each vertex is connected to each other vertex. For example,\n",
    "\n",
    "$$\n",
    "\\boldsymbol{A} =\n",
    "\\begin{pmatrix}\n",
    "0&1&1 \\\\\n",
    "1&0&1 \\\\\n",
    "1&1&0\n",
    "\\end{pmatrix},\n",
    "$$\n",
    "\n",
    "specifies a fully connected graph with $N=3$ vertices.\n",
    "\n",
    "We can describe the shape of a matrix by describing the set of matrices it is drawn from. As with vectors, we use a blackboard bolded symbol to denote the type of scalars its elements are comprised of (e.g., integers, reals) and a pair of superscripts to denote the shape of the matrix. The first superscript always denotes the number of rows and the second superscript always denotes the number of columns.\n",
    "\n",
    "To say that a matrix is real valued and has a 2 rows and 3 columns we write\n",
    "$$\n",
    "\\boldsymbol{X} \\in \\mathbb{R}^{2\\times3},\\\n",
    "\\boldsymbol{X} = \\begin{pmatrix}\n",
    "    x_{1,1}&x_{1,2}&x_{1,3}\\\\\n",
    "    x_{2,1}&x_{2,2}&x_{2,3}\\\\\n",
    "\\end{pmatrix}.\n",
    "$$\n",
    "\n",
    "Note that the subscripts of the indices follow the row, column convention.\n",
    "\n",
    "To say that a matrix is complex valued and has a 3 rows and 2 columns we write\n",
    "\n",
    "$$\n",
    "\\boldsymbol{Z} \\in \\mathbb{C}^{3\\times2},\\\n",
    "\\boldsymbol{Z} = \\begin{pmatrix}\n",
    "    z_{1,1}&z_{1,2}\\\\\n",
    "    z_{2,1}&z_{2,2}\\\\\n",
    "    z_{3,1}&z_{3,2}\\\\\n",
    "\\end{pmatrix}.\n",
    "$$\n",
    "\n",
    "In Python, `numpy` is usually the library of choice for working with matrices. Some basic examples are below. An in depth review will be covered in a later class."
   ]
  },
  {
   "cell_type": "code",
   "execution_count": 9,
   "metadata": {},
   "outputs": [
    {
     "name": "stdout",
     "output_type": "stream",
     "text": [
      "[[1 2 3]\n",
      " [4 5 6]\n",
      " [7 8 9]]\n"
     ]
    }
   ],
   "source": [
    "example_array = np.array([[1, 2, 3], [4, 5, 6], [7, 8, 9]])\n",
    "\n",
    "print(example_array)"
   ]
  },
  {
   "cell_type": "markdown",
   "metadata": {},
   "source": [
    "## Matrix Operations\n",
    "\n",
    "Like vector operations, matrix operations are useful both for providing a concise description of potentially many arithmetic operations and for representing phenomena in the physical world. Also like vector operations, some matrix operations are performed elementwise (where each element of one matrix is combined with each element of another matrix to create a new matrix of the same size and shape) and some matrix operations are performed by applying a special order of operations. In general, formulating many arithmetic operations as matrix operations can help speed them up, by taking advantage of parallel computing techniques, like vectorized CPU operations or GPU operations. We will cover parallel operations in a later class, but for now it is helpful to know that one of the benefits of formulating computations as matrix operations is a speed benefit through parallel processing. \n",
    "\n",
    "### Addition and Subtractions\n",
    "\n",
    "Like vectors, matrices are added and subtracted by adding and subtracting their elements.\n",
    "\n",
    "Using shorthand notation, to perform\n",
    "\n",
    "$$\n",
    "\\boldsymbol{Z} = \\boldsymbol{X} \\pm \\boldsymbol{Y}\n",
    "$$\n",
    "\n",
    "we can add or subtract the elements,\n",
    "\n",
    "$$\n",
    "\\begin{bmatrix}z_{ij}\\end{bmatrix} = \\begin{bmatrix}x_{ij} \\pm y_{ij}\\end{bmatrix}.\n",
    "$$\n",
    "\n",
    "Matrix addition and subtraction is straightforward with `numpy`."
   ]
  },
  {
   "cell_type": "code",
   "execution_count": 10,
   "metadata": {},
   "outputs": [
    {
     "name": "stdout",
     "output_type": "stream",
     "text": [
      "[[ 2  3  4]\n",
      " [ 5  6  7]\n",
      " [ 8  9 10]]\n"
     ]
    }
   ],
   "source": [
    "x_example_matrix = np.array([[1, 2, 3], [4, 5, 6], [7, 8, 9]])\n",
    "y_example_matrix = np.array([[1, 1, 1], [1, 1, 1], [1, 1, 1]])\n",
    "z_example_matrix = x_example_matrix + y_example_matrix\n",
    "print(z_example_matrix)"
   ]
  },
  {
   "cell_type": "markdown",
   "metadata": {},
   "source": [
    "### Scalar Multiplication and Division\n",
    "\n",
    "Also like vectors, we can multiply or divide a matrix by a scalar by multiplying or dividing its elements by a scalar.\n",
    "\n",
    "To perform the multiplication\n",
    "\n",
    "$$\n",
    "\\boldsymbol{Y} = a\\boldsymbol{X}\n",
    "$$\n",
    "\n",
    "we can multiply each element of $\\boldsymbol{X}$ by $a$,\n",
    "\n",
    "$$\n",
    "\\begin{bmatrix}y_{ij}\\end{bmatrix} = \\begin{bmatrix}a x_{ij}\\end{bmatrix}.\n",
    "$$\n",
    "\n",
    "Scalar multiplication and division in `numpy` is performed by using Pythons multiplication (`*`) and division operators (`/`) to multiply or divide a matrix by a single number."
   ]
  },
  {
   "cell_type": "code",
   "execution_count": 11,
   "metadata": {},
   "outputs": [
    {
     "name": "stdout",
     "output_type": "stream",
     "text": [
      "[[ 2  4  6]\n",
      " [ 8 10 12]\n",
      " [14 16 18]]\n"
     ]
    }
   ],
   "source": [
    "x_example_matrix = np.array([[1, 2, 3], [4, 5, 6], [7, 8, 9]])\n",
    "a_example_constant = 10\n",
    "y_example_matrix = x_example_matrix * a\n",
    "print(y_example_matrix)"
   ]
  },
  {
   "cell_type": "markdown",
   "metadata": {},
   "source": [
    "### Elementwise Multiplication and Division\n",
    "\n",
    "Elementwise multiplication or division of matrices is often called a Hadamard product. The Hadamard product is a common step in algorithms. For example, the Hadamard product can specify applying a mask to remove some elements of a matrix by setting them to 0.\n",
    "\n",
    "As with vectors, the Hadamard product is denoted using a circle, $\\circ$.\n",
    "\n",
    "Using shorthand, the computation of the Hadamard product\n",
    "\n",
    "$$\n",
    "\\boldsymbol{Z} = \\boldsymbol{X} \\circ \\boldsymbol{Y}\n",
    "$$\n",
    "\n",
    "is given by\n",
    "\n",
    "$$\n",
    "\\begin{bmatrix}z_{ij}\\end{bmatrix} = \\begin{bmatrix}x_{ij} y_{ij}\\end{bmatrix}.\n",
    "$$\n",
    "\n",
    "In `numpy` the `*` operator specifies a Hadamard product."
   ]
  },
  {
   "cell_type": "code",
   "execution_count": 12,
   "metadata": {},
   "outputs": [
    {
     "name": "stdout",
     "output_type": "stream",
     "text": [
      "[[1 2 3]\n",
      " [0 0 0]\n",
      " [7 8 9]]\n"
     ]
    }
   ],
   "source": [
    "x_example_matrix = np.array([[1, 2, 3], [4, 5, 6], [7, 8, 9]])\n",
    "y_example_matrix = np.array([[1, 1, 1], [0, 0, 0], [1, 1, 1]])\n",
    "z_example_matrix = x_example_matrix * y_example_matrix\n",
    "print(z_example_matrix)"
   ]
  },
  {
   "cell_type": "markdown",
   "metadata": {},
   "source": [
    "### Matrix Multiplication\n",
    "\n",
    "So long as the dot product is second nature, it is easy to define and compute matrix multiplication.\n",
    "\n",
    "Order matters for matrix multiplication; i.e., matrix multiplication is not commutative.\n",
    "\n",
    "Provided the left matrix has the same number of columns as the right matrix has rows, matrix multiplication is computed by taking the dot product of each row of the left matrix with each column of the right matrix.\n",
    "\n",
    "For two matrices $\\boldsymbol{R}$ and $\\boldsymbol{C}$ where\n",
    "\n",
    "$$\n",
    "\\begin{align}\n",
    "\\boldsymbol{R} &\\in \\mathbb{R}^{L \\times M}, \\\\\n",
    "\\boldsymbol{C} &\\in \\mathbb{R}^{M \\times N},\n",
    "\\end{align}\n",
    "$$\n",
    "\n",
    "the product $\\boldsymbol{P} = \\boldsymbol{R}\\boldsymbol{C}$ is given by\n",
    "\n",
    "$$\n",
    "\\begin{pmatrix}\n",
    "r_1 \\cdot c_1 & \\cdots & r_1 \\cdot c_N \\\\\n",
    "\\vdots & \\ddots & \\vdots \\\\\n",
    "r_L \\cdot c_1 & \\cdots & r_L \\cdot c_N\n",
    "\\end{pmatrix}\n",
    "\n",
    "=\n",
    "\\begin{pmatrix}\n",
    "\\leftarrow & r_1 & \\rightarrow \\\\\n",
    "\\vdots & \\vdots & \\vdots \\\\\n",
    "\\leftarrow & r_L & \\rightarrow \\\\\n",
    "\\end{pmatrix}\n",
    "\n",
    "\\begin{pmatrix}\n",
    "\\uparrow & \\cdots & \\uparrow \\\\\n",
    "\\boldsymbol{c_1} & \\cdots & \\boldsymbol{c_N} \\\\\n",
    "\\downarrow & \\cdots & \\downarrow\n",
    "\\end{pmatrix}\n",
    "$$\n",
    "\n",
    "where $r_l \\cdot c_n$ is the dot product of row $l$ in $\\boldsymbol{R}$ with column $n$ in $C$.\n",
    "\n",
    "Matrix multiplication can be performed in `numpy` using the `@` operator or the `dot()` function."
   ]
  },
  {
   "cell_type": "code",
   "execution_count": 13,
   "metadata": {},
   "outputs": [
    {
     "name": "stdout",
     "output_type": "stream",
     "text": [
      "[[22 28]\n",
      " [49 64]]\n",
      "[[22 28]\n",
      " [49 64]]\n"
     ]
    }
   ],
   "source": [
    "r_example_matrix = np.array([[1, 2, 3], [4, 5, 6]])\n",
    "c_example_matrix = np.array([[1, 2], [3, 4], [5, 6]])\n",
    "p_example_matrix_product = r_example_matrix @ c_example_matrix\n",
    "print(p_example_matrix_product)\n",
    "p_example_matrix_product_via_dot = np.dot(r_example_matrix, c_example_matrix)\n",
    "print(p_example_matrix_product_via_dot)"
   ]
  }
 ],
 "metadata": {
  "kernelspec": {
   "display_name": "Python 3",
   "language": "python",
   "name": "python3"
  },
  "language_info": {
   "codemirror_mode": {
    "name": "ipython",
    "version": 3
   },
   "file_extension": ".py",
   "mimetype": "text/x-python",
   "name": "python",
   "nbconvert_exporter": "python",
   "pygments_lexer": "ipython3",
   "version": "3.12.1"
  }
 },
 "nbformat": 4,
 "nbformat_minor": 2
}
