{
 "cells": [
  {
   "cell_type": "markdown",
   "metadata": {},
   "source": [
    "# Linear Algebra Review\n",
    "\n",
    "Here we will review some basic linear algebra that will help us discuss fundamentals throughout the semester.\n",
    "\n",
    "We will use some basic Python libraries to help with this (`numpy` and `matplotlib`). If these are unfamiliar, that is ok. We will review Python and associated libraries in a later class."
   ]
  },
  {
   "cell_type": "code",
   "execution_count": 1,
   "metadata": {},
   "outputs": [],
   "source": [
    "%load_ext autoreload\n",
    "%autoreload 2\n",
    "%matplotlib widget\n",
    "\n",
    "import numpy\n",
    "import matplotlib.pyplot as plt\n",
    "\n",
    "plt.rcParams[\"font.size\"] = 16\n",
    "plt.rcParams[\"font.family\"] = \"serif\"\n",
    "plt.rcParams[\"mathtext.fontset\"] = \"dejavuserif\""
   ]
  },
  {
   "cell_type": "markdown",
   "metadata": {},
   "source": [
    " ## Scalars\n",
    "\n",
    " A scalar is a quantity that can be represented as a single number.\n",
    " \n",
    " Scalars are usually represented by non-bold, italicized letters, such as $x$ or $A$. We will follow this convention in this class.\n",
    " \n",
    " Examples of scalars include:\n",
    " * The number $2$\n",
    " * The temperature outside\n",
    " * The mass of an object\n",
    " * The variable $x \\in \\mathbb{R}$\n",
    " * The constant $A \\in \\mathbb{R}$\n",
    " * The expected value of a real-valued distribution $\\mathrm{E}[X]$\n"
   ]
  },
  {
   "cell_type": "markdown",
   "metadata": {},
   "source": [
    "## Vectors\n",
    "\n",
    "A vector is a collection of numbers (called elements) that cannot be reduced to a single number (i.e., cannot be represented as a scalar).\n",
    "\n",
    "Vectors can have a finite or infinite number of components, and can be used to represent physical or purely mathematical quantities and objects. When used to represent physical quantities, vectors represent those quantities that have a magnitude and a direction, whereas scalars represent quantities that have only a magnitude.\n",
    "\n",
    "The term vector can also be used in programming to refer to an array of numbers.\n",
    "\n",
    "Vectors are usually represented using bold, italic fonts, e.g., $\\boldsymbol{F}$. Vectors can also be represented with lines above symbols ($\\bar{F}$), or with arrows above symbols ($\\vec{F}$). We will follow the bold convention in this class.\n",
    "\n",
    "Examples of vectors include:\n",
    "\n",
    "* The quantity $\\begin{pmatrix}1&2&3\\end{pmatrix}$\n",
    "* The direction a car is accelerating in and the magnitude of that acceleration $\\boldsymbol{a} = \\begin{pmatrix}a_x&a_y&a_z\\end{pmatrix}$\n",
    "* The force applied to an object $\\boldsymbol{F} = m\\boldsymbol{a}$\n",
    "* A complex number $z = x + iy$\n",
    "* The variable $\\boldsymbol{x} = \\begin{pmatrix}x_1&\\cdots&x_N\\end{pmatrix}$\n",
    "* The weights of a discrete probability distribution, such as a 6 side weighted die with probabilities of each side occurring $\\boldsymbol{p} = \\frac{1}{12}\\begin{pmatrix}1&2&3&3&2&1\\end{pmatrix}$\n",
    "\n",
    "A vector can have real or complex elements. Note that for a vector with complex elements, its elements can also be represented as vectors.\n",
    "\n",
    "In some cases it is helpful to think of a function as a vector with infinitely many components (although this is not always rigorous).\n",
    "\n",
    "Vectors can be written horizontally as row vectors,\n",
    "\n",
    "$$\n",
    "\\boldsymbol{x} = \\begin{pmatrix}x_1&\\cdots&x_N\\end{pmatrix},\n",
    "$$\n",
    "\n",
    "and vertically as column vectors,\n",
    "\n",
    "$$\n",
    "\\boldsymbol{x} = \\begin{pmatrix}x_1\\\\\\vdots\\\\x_N\\end{pmatrix}.\n",
    "$$\n",
    "\n",
    "We can describe the shape of a vector by describing the set of vectors it is drawn from. We use a blackboard bolded symbol to denote the type of scalars its elements are comprised of (e.g., integers, reals) and a pair of superscripts to denote the shape of the vector. The first superscript always denotes the number of rows and the second superscript always denotes the number of columns. Since a vector always represents a 1-dimensional array of elements, either the number of rows or the number of columns will always be 1.\n",
    "\n",
    "To say that a vector is real valued and has a 1 row and 3 columns we write\n",
    "$$\n",
    "\\boldsymbol{x} \\in \\mathbb{R}^{1\\times3},\\ \\boldsymbol{x} = \\begin{pmatrix}x_1&x_2&x_3\\end{pmatrix}.\n",
    "$$\n",
    "To say that a vector is complex valued and has a 3 rows and 1 column we write\n",
    "$$\n",
    "\\boldsymbol{z} \\in \\mathbb{C}^{3\\times1},\\ \\boldsymbol{z} = \\begin{pmatrix}z_1\\\\z_2\\\\z_3\\end{pmatrix}.\n",
    "$$\n",
    "\n",
    "In Python, `numpy` is usually the library of choice for working with vectors. If `numpy` is unfamiliar, it will be reviewed in detail in a later class.\n"
   ]
  },
  {
   "cell_type": "code",
   "execution_count": 2,
   "metadata": {},
   "outputs": [
    {
     "name": "stdout",
     "output_type": "stream",
     "text": [
      "[1 2 3]\n",
      "[0.  0.1 0.2 0.3 0.4 0.5 0.6 0.7 0.8 0.9]\n",
      "[0.         0.11111111 0.22222222 0.33333333 0.44444444 0.55555556\n",
      " 0.66666667 0.77777778 0.88888889 1.        ]\n"
     ]
    }
   ],
   "source": [
    "import numpy as np\n",
    "\n",
    "example_array = np.array([1, 2, 3])\n",
    "example_arange_array = np.arange(0, 1, 0.1)  # Start, Stop, Step\n",
    "example_linspace_array = np.linspace(\n",
    "    0, 1, 10\n",
    ")  # Start, Stop, Number of Elements\n",
    "\n",
    "print(example_array)\n",
    "print(example_arange_array)\n",
    "print(example_linspace_array)"
   ]
  },
  {
   "cell_type": "markdown",
   "metadata": {},
   "source": [
    "## Vector Operations\n",
    "\n",
    "Performing operations on vectors is useful both for providing a concise description of potentially many arithmetic operations and for representing phenomena in the physical world. Some vector operations are performed elementwise (where each element of one vector is combined with each element of another vector to create a new vector of the same size and shape) and some vector operations are performed by applying a special order of operations.\n",
    "\n",
    "### Transpose\n",
    "\n",
    "Transposing a vector converts a row vector to a column vector.\n",
    "\n",
    "$$\n",
    "\\begin{align*}\n",
    "\\boldsymbol{x} &= \\begin{pmatrix}x_1&\\cdots&x_N\\end{pmatrix} \\\\\n",
    "\\boldsymbol{x}^\\mathrm{T} &= \\begin{pmatrix}x_1\\\\ \\vdots \\\\ x_N\\end{pmatrix}\n",
    "\\end{align*}\n",
    "$$\n",
    "\n",
    "Transpose is implemented in `numpy` with the `.T` operator. Note the example array has to be represented as a 2D array for the transpose operation to have an effect."
   ]
  },
  {
   "cell_type": "code",
   "execution_count": 3,
   "metadata": {},
   "outputs": [
    {
     "name": "stdout",
     "output_type": "stream",
     "text": [
      "[[1 2 3]]\n",
      "[[1]\n",
      " [2]\n",
      " [3]]\n"
     ]
    }
   ],
   "source": [
    "example_array = np.array(\n",
    "    [\n",
    "        [1, 2, 3],\n",
    "    ]\n",
    ")\n",
    "\n",
    "print(example_array)\n",
    "print(example_array.T)"
   ]
  },
  {
   "cell_type": "markdown",
   "metadata": {},
   "source": [
    "## Euclidean Norm and $L^p$ Norm\n",
    "\n",
    "The length of a vector has several definitions. The most intuitive is the L-2 norm, or Euclidean norm.\n",
    "\n",
    "The Euclidean norm is the measure of distance we are most familiar with in the everyday space we live in.\n",
    "\n",
    "To compute the distance between two points on a flat surface, $\\boldsymbol{a} = (x_a, y_a),\\ \\boldsymbol{b} = (x_b, y_b)$, we are familiar with the formula\n",
    "\n",
    "$$\n",
    "\\begin{align*}\n",
    "d = \\sqrt{{\\Delta x}^2 + {\\Delta y}^2}\n",
    "\\end{align*}\n",
    "$$\n",
    "\n",
    "where\n",
    "\n",
    "$$\n",
    "\\begin{align*}\n",
    "\\Delta x &= x_b - x_a, \\\\\n",
    "\\Delta y &= y_b - y_a.\n",
    "\\end{align*}\n",
    "$$\n",
    "\n",
    "This familiar formula is called the L-2 Norm. For a vector\n",
    "\n",
    "$$\n",
    "\\boldsymbol{x} = \\begin{pmatrix}x_1&\\cdots&x_N\\end{pmatrix}\n",
    "$$\n",
    "\n",
    "the L-2 norm is defined\n",
    "\n",
    "$$\n",
    "\\begin{align*}\n",
    "\\|\\boldsymbol{x}\\|_2 &= \\sqrt{x \\cdot x}, \\\\\n",
    "        &= \\sqrt{x^Tx}, \\\\\n",
    "        &= \\sqrt{\\sum_i x_i^2}, \\\\\n",
    "        &= {\\left( x_1^2 + \\cdots + x_N^2 \\right)}^{1/2}. \\\\\n",
    "\\end{align*}\n",
    "$$\n",
    "\n",
    "More generally, we sometimes refer to an $L^p$ norm, defined by\n",
    "\n",
    "$$\n",
    "\\begin{align*}\n",
    "\\|\\boldsymbol{x}\\|_p &= {\\lparen x_1^p + \\cdots + x_N^p \\rparen}^{1/p}, \\\\\n",
    "    &= {\\left( \\sum_i |x_i|^{p} \\right)}^{1/p}.\n",
    "\\end{align*}\n",
    "$$\n",
    "\n",
    "Take the limit as $p \\to \\infty$ gives the $L^{\\infty}$-norm,\n",
    "\n",
    "$$\n",
    "\\|\\boldsymbol{x}\\|_{\\infty} = \\mathrm{max}\\{|x_1|, \\cdots, |x_N|\\}.\n",
    "$$\n"
   ]
  },
  {
   "cell_type": "code",
   "execution_count": 4,
   "metadata": {},
   "outputs": [
    {
     "data": {
      "application/vnd.jupyter.widget-view+json": {
       "model_id": "f577c4f2e10b4a21a7b6ec7276974f89",
       "version_major": 2,
       "version_minor": 0
      },
      "image/png": "[encoded data removed]",
      "text/html": [
       "\n",
       "            <div style=\"display: inline-block;\">\n",
       "                <div class=\"jupyter-widgets widget-label\" style=\"text-align: center;\">\n",
       "                    Figure\n",
       "                </div>\n",
       "                <img src='data:image/png;base64,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' width=800.0/>\n",
       "            </div>\n",
       "        "
      ],
      "text/plain": [
       "Canvas(toolbar=Toolbar(toolitems=[('Home', 'Reset original view', 'home', 'home'), ('Back', 'Back to previous …"
      ]
     },
     "metadata": {},
     "output_type": "display_data"
    }
   ],
   "source": [
    "from linear_algebra_demonstrations import L2NormDemo\n",
    "\n",
    "l2_norm_demo = L2NormDemo()\n",
    "l2_norm_demo.instantiate_plot()"
   ]
  },
  {
   "cell_type": "markdown",
   "metadata": {},
   "source": [
    "### Addition and Subtraction\n",
    "\n",
    "Vectors are added and subtracted by adding or subtracting their elements.\n",
    "\n",
    "$$\n",
    "\\begin{align*}\n",
    "\\boldsymbol{z} &= \\boldsymbol{x} \\pm \\boldsymbol{y} \\\\\n",
    "    &= \\begin{pmatrix}x_1 \\pm y_1 & \\cdots & x_N \\pm y_N\\end{pmatrix}\n",
    "\\end{align*}\n",
    "$$\n"
   ]
  },
  {
   "cell_type": "code",
   "execution_count": 5,
   "metadata": {},
   "outputs": [
    {
     "name": "stdout",
     "output_type": "stream",
     "text": [
      "[2 4 6]\n",
      "[0 0 0]\n"
     ]
    }
   ],
   "source": [
    "x = np.array([1, 2, 3])\n",
    "y = np.array([1, 2, 3])\n",
    "z = x + y\n",
    "print(z)\n",
    "z = x - y\n",
    "print(z)"
   ]
  },
  {
   "cell_type": "markdown",
   "metadata": {},
   "source": [
    "A scalar can also be added or subtracted to each element of a vector.\n",
    "\n",
    " $$\n",
    " \\begin{align*}\n",
    " y &= \\boldsymbol{x} \\pm a,\\ \\boldsymbol{x} \\in \\mathbb{R}^{1 \\times N},\\ a \\in \\mathbb{R} \\\\\n",
    "   &= \\begin{pmatrix}x_1 \\pm a&\\cdots&x_N \\pm a\\end{pmatrix}\n",
    " \\end{align*}\n",
    " $$"
   ]
  },
  {
   "cell_type": "code",
   "execution_count": 6,
   "metadata": {},
   "outputs": [
    {
     "name": "stdout",
     "output_type": "stream",
     "text": [
      "[3 4 5]\n"
     ]
    }
   ],
   "source": [
    "x = np.array([1, 2, 3])\n",
    "a = 2\n",
    "y = x + a\n",
    "print(y)"
   ]
  },
  {
   "cell_type": "markdown",
   "metadata": {},
   "source": [
    "### Scalar Multiplication and Division\n",
    "\n",
    "A vector can be multiplied or divided by a scalar by applying the scalar multiplication or division to each element of the vector.\n",
    "\n",
    "$$\n",
    "\\begin{align*}\n",
    "\\boldsymbol{y} &= a\\boldsymbol{x}\\\\\n",
    "  &= a\\begin{pmatrix}x_1&\\cdots&x_N\\end{pmatrix} \\\\\n",
    "  &= \\begin{pmatrix}a x_1&\\cdots&a x_N\\end{pmatrix}\n",
    "\\end{align*}\n",
    "$$\n",
    "\n",
    "### Elementwise Multiplication and Division\n",
    "\n",
    "Two vectors of the same shape can also be multiplied or divided elementwise. This is a common operation in computing. In math, this is called a Hadamard product. The Hadamard product is often denoted with a circle, i.e., $\\circ$.\n",
    "\n",
    "For two vectors\n",
    "$$\n",
    "\\boldsymbol{x} = \\begin{pmatrix}x_1&\\cdots&x_N\\end{pmatrix},\\ \\boldsymbol{y} = \\begin{pmatrix}y_1&\\cdots&y_N\\end{pmatrix},\n",
    "$$\n",
    "their Hadamard product is given by\n",
    "$$\n",
    "\\boldsymbol{x} \\circ \\boldsymbol{y} = \\begin{pmatrix}x_1 y_1 & \\cdots & x_N y_N\\end{pmatrix}.\n",
    "$$\n",
    "\n",
    "It is important to be mindful of whether a `numpy` operation is implementing a matrix product or a Hadamard product.\n"
   ]
  },
  {
   "cell_type": "code",
   "execution_count": 7,
   "metadata": {},
   "outputs": [
    {
     "name": "stdout",
     "output_type": "stream",
     "text": [
      "[2 4 6]\n",
      "[1 4 9]\n"
     ]
    }
   ],
   "source": [
    "x = np.array([1, 2, 3])\n",
    "y = np.array([1, 2, 3])\n",
    "a = 2\n",
    "x_times_a = x * a\n",
    "x_times_y_elementwise = x * y\n",
    "print(x_times_a)\n",
    "print(x_times_y_elementwise)"
   ]
  },
  {
   "cell_type": "markdown",
   "metadata": {},
   "source": [
    "### Dot Product\n",
    "\n",
    "The dot product (also called inner-product) accepts two vectors of the same length as input and returns a scalar. The dot product is computed by performing an elementwise product and then computing the sum of the elements of the resulting vector.\n",
    "\n",
    "For two vectors\n",
    "\n",
    "$$\n",
    "\\begin{align*}\n",
    "x = \\begin{pmatrix}x_1&\\cdots&x_N\\end{pmatrix},\\ y = \\begin{pmatrix}y_1&\\cdots&y_N\\end{pmatrix}\n",
    "\\end{align*}\n",
    "$$\n",
    "the dot product is computed as\n",
    "$$\n",
    "\\begin{align*}\n",
    "\\boldsymbol{x} \\cdot \\boldsymbol{y} &= \\sum_{i=1}^N x_i y_i, \\\\\n",
    "    &= x_1 y_1 + \\cdots + x_N y_N.\n",
    "\\end{align*}\n",
    "$$\n",
    "\n",
    "Alternatively, the dot product can be thought of as a matrix multiplication,\n",
    "\n",
    "$$\n",
    "\\boldsymbol{x} \\cdot \\boldsymbol{y} = \\boldsymbol{x}^{\\mathrm{T}}\\boldsymbol{y}.\n",
    "$$\n",
    "\n",
    "The dot product is related to the angle between two vectors by\n",
    "\n",
    "$$\n",
    "\\boldsymbol{x} \\cdot \\boldsymbol{y} = \\| \\boldsymbol{x} \\| \\| \\boldsymbol{y} \\| \\cos \\theta\n",
    "$$\n",
    "\n",
    "where $\\theta$ is the angle between the two vectors.\n",
    "\n",
    "The dot product is ubiquitous in machine learning with many applications, including:\n",
    "* Multiplying a vector of weights $\\boldsymbol{w}$ against a vector of inputs $\\boldsymbol{x}$, i.e., $\\boldsymbol{y} = \\boldsymbol{w}\\boldsymbol{x} + b$\n",
    "* Checking the similarity between two vectors\n",
    "* Use in the attention mechanisms of transformers\n",
    "\n",
    "If some of these uses of the dot product are unfamiliar right now, that is ok. We will build up to them in later classes. For now it is important to be comfortable computing the dot product."
   ]
  },
  {
   "cell_type": "code",
   "execution_count": 8,
   "metadata": {},
   "outputs": [
    {
     "name": "stdout",
     "output_type": "stream",
     "text": [
      "14\n"
     ]
    }
   ],
   "source": [
    "x = np.array([1, 2, 3])\n",
    "y = np.array([1, 2, 3])\n",
    "\n",
    "x_dot_y = np.dot(x, y)\n",
    "\n",
    "print(x_dot_y)"
   ]
  },
  {
   "cell_type": "markdown",
   "metadata": {},
   "source": [
    "### Cross Product\n",
    "\n",
    "The cross product or vector product accepts two vectors (usually three-dimensional vectors in Euclidean space) and returns a vector of the same size as output. The cross product is defined by\n",
    "\n",
    "$$\n",
    "\\boldsymbol{x} \\times \\boldsymbol{y} = \\|\\boldsymbol{x}\\| \\| \\boldsymbol{y} \\| \\sin \\left(\\theta\\right) \\boldsymbol{n}\n",
    "$$\n",
    "\n",
    "where $\\theta$ is the angle between $\\boldsymbol{x}$ and $\\boldsymbol{y}$ in the plane they span and $\\boldsymbol{n}$ is the unit vector perpendicular to $\\boldsymbol{x}$ and $\\boldsymbol{y}$, according to the right hand rule.\n",
    "\n",
    "The cross product can most intuitively be thought of as producing the vector which points out of a plane given two vectors which span that plane. If this sounds ambiguous, it is! We use the right hand rule resolve the ambiguity. If we are computing $\\boldsymbol{c} = \\boldsymbol{a} \\times \\boldsymbol{b}$, then we can imagine $\\boldsymbol{c}$ pointing in the direction of our thumb if $\\boldsymbol{a}$ and $\\boldsymbol{b}$ are pointing in the directions of our second and third fingers respectively.\n",
    "\n",
    "The cross product has fewer applications in machine learning than the dot product. However, it is important in engineering, 3D graphics, and physics, and so it is encountered often in applied machine learning, and important to know for this reason."
   ]
  },
  {
   "cell_type": "markdown",
   "metadata": {},
   "source": [
    "## Matrices\n",
    "\n",
    "A matrix is a rectangular array of numbers used to represent a mathematical or physical object, or the properties of a mathematical or physical object. Unlike a vector which can only have 1 row and $N$ columns, or $N$ rows and 1 column, a matrix can have $N$ rows and $M$ columns.\n",
    "\n",
    "Matrices are usually denoted by capital letters. In this class, matrices will be capital letters, bolded and italicized, e.g., $\\boldsymbol{A}$.\n",
    "\n",
    "We can use a shorthand to denote the elements of a matrix, e.g.,\n",
    "\n",
    "$$\n",
    "\\boldsymbol{A} = \\begin{bmatrix}a_{ij}\\end{bmatrix}_{1\\leq i \\leq N, 1 \\leq j \\leq M},\n",
    "$$\n",
    "\n",
    "which is equivalent to\n",
    "\n",
    "$$\n",
    "\\boldsymbol{A} = \\begin{pmatrix}\n",
    "a_{1,1}& \\cdots & a_{1,M} \\\\\n",
    "\\vdots& \\ddots & \\vdots \\\\\n",
    "a_{N,1}& \\cdots & a_{N,M} \\\\\n",
    "\\end{pmatrix}\n",
    "$$\n",
    "\n",
    "Matrices naturally arise anywhere it makes sense to organize data into a 2 dimensional grid. The following are all examples of matrices.\n",
    "\n",
    "The position $\\boldsymbol{p}=\\begin{pmatrix}p_x&p_y&p_z\\end{pmatrix}$ of an object measured at $N$ points in time can be represented as an $N \\times 3$ matrix,\n",
    "\n",
    "$$\n",
    "\\boldsymbol{P} =\n",
    "\\begin{pmatrix}\n",
    "p_x(t_1) & p_y(t_1) & p_z(t_1) \\\\\n",
    "\\vdots & \\vdots & \\vdots \\\\\n",
    "p_x(t_N) & p_y(t_N) & p_z(t_N) \\\\\n",
    "\\end{pmatrix}.\n",
    "$$\n",
    "\n",
    "The correlation of each pair of random variables, $X_i, X_j$ in a random vector of $N$ random variables, $\\mathbf{X} = \\begin{pmatrix}X_1&\\cdots&X_N\\end{pmatrix}$ can be represented as an $N \\times N$ matrix,\n",
    "\n",
    "$$\n",
    "\\boldsymbol{C} = \\begin{bmatrix}c_{ij}\\end{bmatrix}_{1 \\leq i,j \\leq N},\\ c_{ij} = \\mathrm{corr}\\left(X_i, X_j\\right).\n",
    "$$\n",
    "\n",
    "\n",
    "The adjacency matrix specifies, for a graph with $N$ vertices, whether or not each vertex is connected to each other vertex. For example,\n",
    "\n",
    "$$\n",
    "\\boldsymbol{A} =\n",
    "\\begin{pmatrix}\n",
    "0&1&1 \\\\\n",
    "1&0&1 \\\\\n",
    "1&1&0\n",
    "\\end{pmatrix},\n",
    "$$\n",
    "\n",
    "specifies a fully connected graph with $N=3$ vertices.\n",
    "\n",
    "We can describe the shape of a matrix by describing the set of matrices it is drawn from. As with vectors, we use a blackboard bolded symbol to denote the type of scalars its elements are comprised of (e.g., integers, reals) and a pair of superscripts to denote the shape of the matrix. The first superscript always denotes the number of rows and the second superscript always denotes the number of columns.\n",
    "\n",
    "To say that a matrix is real valued and has a 2 rows and 3 columns we write\n",
    "$$\n",
    "\\boldsymbol{X} \\in \\mathbb{R}^{2\\times3},\\\n",
    "\\boldsymbol{X} = \\begin{pmatrix}\n",
    "    x_{1,1}&x_{1,2}&x_{1,3}\\\\\n",
    "    x_{2,1}&x_{2,2}&x_{2,3}\\\\\n",
    "\\end{pmatrix}.\n",
    "$$\n",
    "\n",
    "Note that the subscripts of the indices follow the row, column convention.\n",
    "\n",
    "To say that a matrix is complex valued and has a 3 rows and 2 columns we write\n",
    "\n",
    "$$\n",
    "\\boldsymbol{Z} \\in \\mathbb{C}^{3\\times2},\\\n",
    "\\boldsymbol{Z} = \\begin{pmatrix}\n",
    "    z_{1,1}&z_{1,2}\\\\\n",
    "    z_{2,1}&z_{2,2}\\\\\n",
    "    z_{3,1}&z_{3,2}\\\\\n",
    "\\end{pmatrix}.\n",
    "$$\n",
    "\n",
    "In Python, `numpy` is usually the library of choice for working with matrices. Some basic examples are below. An in depth review will be covered in a later class."
   ]
  },
  {
   "cell_type": "code",
   "execution_count": 9,
   "metadata": {},
   "outputs": [
    {
     "name": "stdout",
     "output_type": "stream",
     "text": [
      "[[1 2 3]\n",
      " [4 5 6]\n",
      " [7 8 9]]\n"
     ]
    }
   ],
   "source": [
    "example_array = np.array([[1, 2, 3], [4, 5, 6], [7, 8, 9]])\n",
    "\n",
    "print(example_array)"
   ]
  },
  {
   "cell_type": "markdown",
   "metadata": {},
   "source": [
    "## Matrix Operations\n",
    "\n",
    "Like vector operations, matrix operations are useful both for providing a concise description of potentially many arithmetic operations and for representing phenomena in the physical world. Also like vector operations, some matrix operations are performed elementwise (where each element of one matrix is combined with each element of another matrix to create a new matrix of the same size and shape) and some matrix operations are performed by applying a special order of operations. In general, formulating many arithmetic operations as matrix operations can help speed them up, by taking advantage of parallel computing techniques, like vectorized CPU operations or GPU operations. We will cover parallel operations in a later class, but for now it is helpful to know that one of the benefits of formulating computations as matrix operations is a speed benefit through parallel processing. \n",
    "\n",
    "### Addition and Subtractions\n",
    "\n",
    "Like vectors, matrices are added and subtracted by adding and subtracting their elements.\n",
    "\n",
    "Using shorthand notation, to perform\n",
    "\n",
    "$$\n",
    "\\boldsymbol{Z} = \\boldsymbol{X} \\pm \\boldsymbol{Y}\n",
    "$$\n",
    "\n",
    "we can add or subtract the elements,\n",
    "\n",
    "$$\n",
    "\\begin{bmatrix}z_{ij}\\end{bmatrix} = \\begin{bmatrix}x_{ij} \\pm y_{ij}\\end{bmatrix}.\n",
    "$$\n",
    "\n",
    "Matrix addition and subtraction is straightforward with `numpy`."
   ]
  },
  {
   "cell_type": "code",
   "execution_count": 10,
   "metadata": {},
   "outputs": [
    {
     "name": "stdout",
     "output_type": "stream",
     "text": [
      "[[ 2  3  4]\n",
      " [ 5  6  7]\n",
      " [ 8  9 10]]\n"
     ]
    }
   ],
   "source": [
    "x_example_matrix = np.array([[1, 2, 3], [4, 5, 6], [7, 8, 9]])\n",
    "y_example_matrix = np.array([[1, 1, 1], [1, 1, 1], [1, 1, 1]])\n",
    "z_example_matrix = x_example_matrix + y_example_matrix\n",
    "print(z_example_matrix)"
   ]
  },
  {
   "cell_type": "markdown",
   "metadata": {},
   "source": [
    "### Scalar Multiplication and Division\n",
    "\n",
    "Also like vectors, we can multiply or divide a matrix by a scalar by multiplying or dividing its elements by a scalar.\n",
    "\n",
    "To perform the multiplication\n",
    "\n",
    "$$\n",
    "\\boldsymbol{Y} = a\\boldsymbol{X}\n",
    "$$\n",
    "\n",
    "we can multiply each element of $\\boldsymbol{X}$ by $a$,\n",
    "\n",
    "$$\n",
    "\\begin{bmatrix}y_{ij}\\end{bmatrix} = \\begin{bmatrix}a x_{ij}\\end{bmatrix}.\n",
    "$$\n",
    "\n",
    "Scalar multiplication and division in `numpy` is performed by using Pythons multiplication (`*`) and division operators (`/`) to multiply or divide a matrix by a single number."
   ]
  },
  {
   "cell_type": "code",
   "execution_count": 11,
   "metadata": {},
   "outputs": [
    {
     "name": "stdout",
     "output_type": "stream",
     "text": [
      "[[ 2  4  6]\n",
      " [ 8 10 12]\n",
      " [14 16 18]]\n"
     ]
    }
   ],
   "source": [
    "x_example_matrix = np.array([[1, 2, 3], [4, 5, 6], [7, 8, 9]])\n",
    "a_example_constant = 10\n",
    "y_example_matrix = x_example_matrix * a\n",
    "print(y_example_matrix)"
   ]
  },
  {
   "cell_type": "markdown",
   "metadata": {},
   "source": [
    "### Elementwise Multiplication and Division\n",
    "\n",
    "Elementwise multiplication or division of matrices is often called a Hadamard product. The Hadamard product is a common step in algorithms. For example, the Hadamard product can specify applying a mask to remove some elements of a matrix by setting them to 0.\n",
    "\n",
    "As with vectors, the Hadamard product is denoted using a circle, $\\circ$.\n",
    "\n",
    "Using shorthand, the computation of the Hadamard product\n",
    "\n",
    "$$\n",
    "\\boldsymbol{Z} = \\boldsymbol{X} \\circ \\boldsymbol{Y}\n",
    "$$\n",
    "\n",
    "is given by\n",
    "\n",
    "$$\n",
    "\\begin{bmatrix}z_{ij}\\end{bmatrix} = \\begin{bmatrix}x_{ij} y_{ij}\\end{bmatrix}.\n",
    "$$\n",
    "\n",
    "In `numpy` the `*` operator specifies a Hadamard product."
   ]
  },
  {
   "cell_type": "code",
   "execution_count": 12,
   "metadata": {},
   "outputs": [
    {
     "name": "stdout",
     "output_type": "stream",
     "text": [
      "[[1 2 3]\n",
      " [0 0 0]\n",
      " [7 8 9]]\n"
     ]
    }
   ],
   "source": [
    "x_example_matrix = np.array([[1, 2, 3], [4, 5, 6], [7, 8, 9]])\n",
    "y_example_matrix = np.array([[1, 1, 1], [0, 0, 0], [1, 1, 1]])\n",
    "z_example_matrix = x_example_matrix * y_example_matrix\n",
    "print(z_example_matrix)"
   ]
  },
  {
   "cell_type": "markdown",
   "metadata": {},
   "source": [
    "### Matrix Multiplication\n",
    "\n",
    "So long as the dot product is second nature, it is easy to define and compute matrix multiplication.\n",
    "\n",
    "Order matters for matrix multiplication; i.e., matrix multiplication is not commutative.\n",
    "\n",
    "Provided the left matrix has the same number of columns as the right matrix has rows, matrix multiplication is computed by taking the dot product of each row of the left matrix with each column of the right matrix.\n",
    "\n",
    "For two matrices $\\boldsymbol{R}$ and $\\boldsymbol{C}$ where\n",
    "\n",
    "$$\n",
    "\\begin{align}\n",
    "\\boldsymbol{R} &\\in \\mathbb{R}^{L \\times M}, \\\\\n",
    "\\boldsymbol{C} &\\in \\mathbb{R}^{M \\times N},\n",
    "\\end{align}\n",
    "$$\n",
    "\n",
    "the product $\\boldsymbol{P} = \\boldsymbol{R}\\boldsymbol{C}$ is given by\n",
    "\n",
    "$$\n",
    "\\begin{pmatrix}\n",
    "r_1 \\cdot c_1 & \\cdots & r_1 \\cdot c_N \\\\\n",
    "\\vdots & \\ddots & \\vdots \\\\\n",
    "r_L \\cdot c_1 & \\cdots & r_L \\cdot c_N\n",
    "\\end{pmatrix}\n",
    "\n",
    "=\n",
    "\\begin{pmatrix}\n",
    "\\leftarrow & r_1 & \\rightarrow \\\\\n",
    "\\vdots & \\vdots & \\vdots \\\\\n",
    "\\leftarrow & r_L & \\rightarrow \\\\\n",
    "\\end{pmatrix}\n",
    "\n",
    "\\begin{pmatrix}\n",
    "\\uparrow & \\cdots & \\uparrow \\\\\n",
    "\\boldsymbol{c_1} & \\cdots & \\boldsymbol{c_N} \\\\\n",
    "\\downarrow & \\cdots & \\downarrow\n",
    "\\end{pmatrix}\n",
    "$$\n",
    "\n",
    "where $r_l \\cdot c_n$ is the dot product of row $l$ in $\\boldsymbol{R}$ with column $n$ in $C$.\n",
    "\n",
    "Matrix multiplication can be performed in `numpy` using the `@` operator or the `dot()` function."
   ]
  },
  {
   "cell_type": "code",
   "execution_count": 13,
   "metadata": {},
   "outputs": [
    {
     "name": "stdout",
     "output_type": "stream",
     "text": [
      "[[22 28]\n",
      " [49 64]]\n",
      "[[22 28]\n",
      " [49 64]]\n"
     ]
    }
   ],
   "source": [
    "r_example_matrix = np.array([[1, 2, 3], [4, 5, 6]])\n",
    "c_example_matrix = np.array([[1, 2], [3, 4], [5, 6]])\n",
    "p_example_matrix_product = r_example_matrix @ c_example_matrix\n",
    "print(p_example_matrix_product)\n",
    "p_example_matrix_product_via_dot = np.dot(r_example_matrix, c_example_matrix)\n",
    "print(p_example_matrix_product_via_dot)"
   ]
  }
 ],
 "metadata": {
  "kernelspec": {
   "display_name": "Python 3",
   "language": "python",
   "name": "python3"
  },
  "language_info": {
   "codemirror_mode": {
    "name": "ipython",
    "version": 3
   },
   "file_extension": ".py",
   "mimetype": "text/x-python",
   "name": "python",
   "nbconvert_exporter": "python",
   "pygments_lexer": "ipython3",
   "version": "3.12.1"
  }
 },
 "nbformat": 4,
 "nbformat_minor": 2
}
