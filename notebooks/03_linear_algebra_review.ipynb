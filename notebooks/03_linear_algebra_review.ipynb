{
 "cells": [
  {
   "cell_type": "markdown",
   "metadata": {},
   "source": [
    "# Linear Algebra Review\n",
    "\n",
    "Here we will review some basic linear algebra that will help us discuss fundamentals throughout the semester.\n",
    "\n",
    "We will use some basic Python libraries to help with this (`numpy` and `matplotlib`). If these are unfamiliar, that is ok. We will review Python and associated libraries in a later class."
   ]
  },
  {
   "cell_type": "code",
   "execution_count": 1,
   "metadata": {},
   "outputs": [],
   "source": [
    "%load_ext autoreload\n",
    "%autoreload 2\n",
    "%matplotlib widget\n",
    "\n",
    "import numpy\n",
    "import matplotlib.pyplot as plt\n",
    "\n",
    "plt.rcParams[\"font.size\"] = 16\n",
    "plt.rcParams[\"font.family\"] = \"serif\"\n",
    "plt.rcParams[\"mathtext.fontset\"] = \"dejavuserif\""
   ]
  },
  {
   "cell_type": "markdown",
   "metadata": {},
   "source": [
    " ## Scalars\n",
    "\n",
    " A scalar is a quantity that can be represented as a single number.\n",
    " \n",
    " Scalars are usually represented by non-bold, italicized letters, such as $x$ or $A$. We will follow this convention in this class.\n",
    " \n",
    " Examples of scalars include:\n",
    " * The number $2$\n",
    " * The temperature outside\n",
    " * The mass of an object\n",
    " * The variable $x \\in \\mathbb{R}$\n",
    " * The constant $A \\in \\mathbb{R}$\n",
    " * The expected value of a real-valued distribution $\\mathrm{E}[X]$\n"
   ]
  },
  {
   "cell_type": "markdown",
   "metadata": {},
   "source": [
    "## Vectors\n",
    "\n",
    "A vector is a collection of numbers (called elements) that cannot be reduced to a single number (i.e., cannot be represented as a scalar).\n",
    "\n",
    "Vectors can have a finite or infinite number of components, and can be used to represent physical or purely mathematical quantities and objects. When used to represent physical quantities, vectors represent those quantities that have a magnitude and a direction, whereas scalars represent quantities that have only a magnitude.\n",
    "\n",
    "The term vector can also be used in programming to refer to an array of numbers.\n",
    "\n",
    "Vectors are usually represented using bold, italic fonts, e.g., $\\boldsymbol{F}$. Vectors can also be represented with lines above symbols ($\\bar{F}$), or with arrows above symbols ($\\vec{F}$). We will follow the bold convention in this class.\n",
    "\n",
    "Examples of vectors include:\n",
    "\n",
    "* The quantity $\\begin{pmatrix}1&2&3\\end{pmatrix}$\n",
    "* The direction a car is accelerating in and the magnitude of that acceleration $\\boldsymbol{a} = \\begin{pmatrix}a_x&a_y&a_z\\end{pmatrix}$\n",
    "* The force applied to an object $\\boldsymbol{F} = m\\boldsymbol{a}$\n",
    "* A complex number $z = x + iy$\n",
    "* The variable $\\boldsymbol{x} = \\begin{pmatrix}x_1&\\cdots&x_N\\end{pmatrix}$\n",
    "* The weights of a discrete probability distribution, such as a 6 side weighted die with probabilities of each side occurring $\\boldsymbol{p} = \\frac{1}{12}\\begin{pmatrix}1&2&3&3&2&1\\end{pmatrix}$\n",
    "\n",
    "A vector can have real or complex elements. Note that for a vector with complex elements, its elements can also be represented as vectors.\n",
    "\n",
    "In some cases it is helpful to think of a function as a vector with infinitely many components (although this is not always rigorous).\n",
    "\n",
    "Vectors can be written horizontally as row vectors,\n",
    "\n",
    "$$\n",
    "\\boldsymbol{x} = \\begin{pmatrix}x_1&\\cdots&x_N\\end{pmatrix},\n",
    "$$\n",
    "\n",
    "and vertically as column vectors,\n",
    "\n",
    "$$\n",
    "\\boldsymbol{x} = \\begin{pmatrix}x_1\\\\\\vdots\\\\x_N\\end{pmatrix}.\n",
    "$$\n",
    "\n",
    "We can describe the shape of a vector by describing the set of vectors it is drawn from. We use a blackboard bolded symbol to denote the type of scalars its elements are comprised of (e.g., integers, reals) and a pair of superscripts to denote the shape of the vector. The first superscript always denotes the number of rows and the second superscript always denotes the number of columns. Since a vector always represents a 1-dimensional array of elements, either the number of rows or the number of columns will always be 1.\n",
    "\n",
    "To say that a vector is real valued and has a 1 row and 3 columns we write\n",
    "$$\n",
    "\\boldsymbol{x} \\in \\mathbb{R}^{1\\times3},\\ \\boldsymbol{x} = \\begin{pmatrix}x_1&x_2&x_3\\end{pmatrix}.\n",
    "$$\n",
    "To say that a vector is complex valued and has a 3 rows and 1 column we write\n",
    "$$\n",
    "\\boldsymbol{z} \\in \\mathbb{C}^{3\\times1},\\ \\boldsymbol{z} = \\begin{pmatrix}z_1\\\\z_2\\\\z_3\\end{pmatrix}.\n",
    "$$\n",
    "\n",
    "In Python, `numpy` is usually the library of choice for working with vectors. If `numpy` is unfamiliar, it will be reviewed in detail in a later class.\n"
   ]
  },
  {
   "cell_type": "code",
   "execution_count": 2,
   "metadata": {},
   "outputs": [
    {
     "name": "stdout",
     "output_type": "stream",
     "text": [
      "[1 2 3]\n",
      "[0.  0.1 0.2 0.3 0.4 0.5 0.6 0.7 0.8 0.9]\n",
      "[0.         0.11111111 0.22222222 0.33333333 0.44444444 0.55555556\n",
      " 0.66666667 0.77777778 0.88888889 1.        ]\n"
     ]
    }
   ],
   "source": [
    "import numpy as np\n",
    "\n",
    "example_array = np.array([1, 2, 3])\n",
    "example_arange_array = np.arange(0, 1, 0.1)  # Start, Stop, Step\n",
    "example_linspace_array = np.linspace(\n",
    "    0, 1, 10\n",
    ")  # Start, Stop, Number of Elements\n",
    "\n",
    "print(example_array)\n",
    "print(example_arange_array)\n",
    "print(example_linspace_array)"
   ]
  },
  {
   "cell_type": "markdown",
   "metadata": {},
   "source": [
    "## Vector Operations\n",
    "\n",
    "Performing operations on vectors is useful both for providing a concise description of potentially many arithmetic operations and for representing phenomena in the physical world. Some vector operations are performed elementwise (where each element of one vector is combined with each element of another vector to create a new vector of the same size and shape) and some vector operations are performed by applying a special order of operations.\n",
    "\n",
    "### Transpose\n",
    "\n",
    "Transposing a vector converts a row vector to a column vector.\n",
    "\n",
    "$$\n",
    "\\begin{align*}\n",
    "\\boldsymbol{x} &= \\begin{pmatrix}x_1&\\cdots&x_N\\end{pmatrix} \\\\\n",
    "\\boldsymbol{x}^\\mathrm{T} &= \\begin{pmatrix}x_1\\\\ \\vdots \\\\ x_N\\end{pmatrix}\n",
    "\\end{align*}\n",
    "$$\n",
    "\n",
    "Transpose is implemented in `numpy` with the `.T` operator. Note the example array has to be represented as a 2D array for the transpose operation to have an effect."
   ]
  },
  {
   "cell_type": "code",
   "execution_count": 3,
   "metadata": {},
   "outputs": [
    {
     "name": "stdout",
     "output_type": "stream",
     "text": [
      "[[1 2 3]]\n",
      "[[1]\n",
      " [2]\n",
      " [3]]\n"
     ]
    }
   ],
   "source": [
    "example_array = np.array(\n",
    "    [\n",
    "        [1, 2, 3],\n",
    "    ]\n",
    ")\n",
    "\n",
    "print(example_array)\n",
    "print(example_array.T)"
   ]
  },
  {
   "cell_type": "markdown",
   "metadata": {},
   "source": [
    "## Euclidean Norm and $L^p$ Norm\n",
    "\n",
    "The length of a vector has several definitions. The most intuitive is the L-2 norm, or Euclidean norm.\n",
    "\n",
    "The Euclidean norm is the measure of distance we are most familiar with in the everyday space we live in.\n",
    "\n",
    "To compute the distance between two points on a flat surface, $\\boldsymbol{a} = (x_a, y_a),\\ \\boldsymbol{b} = (x_b, y_b)$, we are familiar with the formula\n",
    "\n",
    "$$\n",
    "\\begin{align*}\n",
    "d = \\sqrt{{\\Delta x}^2 + {\\Delta y}^2}\n",
    "\\end{align*}\n",
    "$$\n",
    "\n",
    "where\n",
    "\n",
    "$$\n",
    "\\begin{align*}\n",
    "\\Delta x &= x_b - x_a, \\\\\n",
    "\\Delta y &= y_b - y_a.\n",
    "\\end{align*}\n",
    "$$\n",
    "\n",
    "This familiar formula is called the L-2 Norm. For a vector\n",
    "\n",
    "$$\n",
    "\\boldsymbol{x} = \\begin{pmatrix}x_1&\\cdots&x_N\\end{pmatrix}\n",
    "$$\n",
    "\n",
    "the L-2 norm is defined\n",
    "\n",
    "$$\n",
    "\\begin{align*}\n",
    "\\|\\boldsymbol{x}\\|_2 &= \\sqrt{x \\cdot x}, \\\\\n",
    "        &= \\sqrt{x^Tx}, \\\\\n",
    "        &= \\sqrt{\\sum_i x_i^2}, \\\\\n",
    "        &= {\\left( x_1^2 + \\cdots + x_N^2 \\right)}^{1/2}. \\\\\n",
    "\\end{align*}\n",
    "$$\n",
    "\n",
    "More generally, we sometimes refer to an $L^p$ norm, defined by\n",
    "\n",
    "$$\n",
    "\\begin{align*}\n",
    "\\|\\boldsymbol{x}\\|_p &= {\\lparen x_1^p + \\cdots + x_N^p \\rparen}^{1/p}, \\\\\n",
    "    &= {\\left( \\sum_i |x_i|^{p} \\right)}^{1/p}.\n",
    "\\end{align*}\n",
    "$$\n",
    "\n",
    "Take the limit as $p \\to \\infty$ gives the $L^{\\infty}$-norm,\n",
    "\n",
    "$$\n",
    "\\|\\boldsymbol{x}\\|_{\\infty} = \\mathrm{max}\\{|x_1|, \\cdots, |x_N|\\}.\n",
    "$$\n",
    "\n",
    "We can get some intuition for vector norms with `matplotlib`."
   ]
  },
  {
   "cell_type": "code",
   "execution_count": 4,
   "metadata": {},
   "outputs": [
    {
     "data": {
      "application/vnd.jupyter.widget-view+json": {
       "model_id": "f8d0eda37c3d4d429e07f903d9491b5a",
       "version_major": 2,
       "version_minor": 0
      },
      "image/png": "[encoded data removed]",
      "text/html": [
       "\n",
       "            <div style=\"display: inline-block;\">\n",
       "                <div class=\"jupyter-widgets widget-label\" style=\"text-align: center;\">\n",
       "                    Figure\n",
       "                </div>\n",
       "                <img src='data:image/png;base64,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' width=800.0/>\n",
       "            </div>\n",
       "        "
      ],
      "text/plain": [
       "Canvas(toolbar=Toolbar(toolitems=[('Home', 'Reset original view', 'home', 'home'), ('Back', 'Back to previous …"
      ]
     },
     "metadata": {},
     "output_type": "display_data"
    }
   ],
   "source": [
    "from linear_algebra_demonstrations import L2NormDemo\n",
    "\n",
    "l2_norm_demo = L2NormDemo()\n",
    "l2_norm_demo.instantiate_plot()"
   ]
  },
  {
   "cell_type": "markdown",
   "metadata": {},
   "source": [
    "The $L^2$ Norm is straightforward. Can we also gain some intuition for an $L^P$ norm?"
   ]
  },
  {
   "cell_type": "markdown",
   "metadata": {},
   "source": [
    "### Addition and Subtraction\n",
    "\n",
    "Vectors are added and subtracted by adding or subtracting their elements.\n",
    "\n",
    "$$\n",
    "\\begin{align*}\n",
    "\\boldsymbol{z} &= \\boldsymbol{x} \\pm \\boldsymbol{y} \\\\\n",
    "    &= \\begin{pmatrix}x_1 \\pm y_1 & \\cdots & x_N \\pm y_N\\end{pmatrix}\n",
    "\\end{align*}\n",
    "$$\n"
   ]
  },
  {
   "cell_type": "code",
   "execution_count": 5,
   "metadata": {},
   "outputs": [
    {
     "name": "stdout",
     "output_type": "stream",
     "text": [
      "[2 4 6]\n",
      "[0 0 0]\n"
     ]
    }
   ],
   "source": [
    "x = np.array([1, 2, 3])\n",
    "y = np.array([1, 2, 3])\n",
    "z = x + y\n",
    "print(z)\n",
    "z = x - y\n",
    "print(z)"
   ]
  },
  {
   "cell_type": "markdown",
   "metadata": {},
   "source": [
    "A scalar can also be added or subtracted to each element of a vector.\n",
    "\n",
    " $$\n",
    " \\begin{align*}\n",
    " y &= \\boldsymbol{x} \\pm a,\\ \\boldsymbol{x} \\in \\mathbb{R}^{1 \\times N},\\ a \\in \\mathbb{R} \\\\\n",
    "   &= \\begin{pmatrix}x_1 \\pm a&\\cdots&x_N \\pm a\\end{pmatrix}\n",
    " \\end{align*}\n",
    " $$"
   ]
  },
  {
   "cell_type": "code",
   "execution_count": 6,
   "metadata": {},
   "outputs": [
    {
     "name": "stdout",
     "output_type": "stream",
     "text": [
      "[3 4 5]\n"
     ]
    }
   ],
   "source": [
    "x = np.array([1, 2, 3])\n",
    "a = 2\n",
    "y = x + a\n",
    "print(y)"
   ]
  },
  {
   "cell_type": "markdown",
   "metadata": {},
   "source": [
    "### Scalar Multiplication and Division\n",
    "\n",
    "A vector can be multiplied or divided by a scalar by applying the scalar multiplication or division to each element of the vector.\n",
    "\n",
    "$$\n",
    "\\begin{align*}\n",
    "\\boldsymbol{y} &= a\\boldsymbol{x}\\\\\n",
    "  &= a\\begin{pmatrix}x_1&\\cdots&x_N\\end{pmatrix} \\\\\n",
    "  &= \\begin{pmatrix}a x_1&\\cdots&a x_N\\end{pmatrix}\n",
    "\\end{align*}\n",
    "$$\n",
    "\n",
    "### Elementwise Multiplication and Division\n",
    "\n",
    "Two vectors of the same shape can also be multiplied or divided elementwise. This is a common operation in computing. In math, this is called a Hadamard product. The Hadamard product is often denoted with a circle, i.e., $\\circ$.\n",
    "\n",
    "For two vectors\n",
    "$$\n",
    "\\boldsymbol{x} = \\begin{pmatrix}x_1&\\cdots&x_N\\end{pmatrix},\\ \\boldsymbol{y} = \\begin{pmatrix}y_1&\\cdots&y_N\\end{pmatrix},\n",
    "$$\n",
    "their Hadamard product is given by\n",
    "$$\n",
    "\\boldsymbol{x} \\circ \\boldsymbol{y} = \\begin{pmatrix}x_1 y_1 & \\cdots & x_N y_N\\end{pmatrix}.\n",
    "$$\n",
    "\n",
    "It is important to be mindful of whether a `numpy` operation is implementing a matrix product or a Hadamard product.\n"
   ]
  },
  {
   "cell_type": "code",
   "execution_count": 7,
   "metadata": {},
   "outputs": [
    {
     "name": "stdout",
     "output_type": "stream",
     "text": [
      "[2 4 6]\n",
      "[1 4 9]\n"
     ]
    }
   ],
   "source": [
    "x = np.array([1, 2, 3])\n",
    "y = np.array([1, 2, 3])\n",
    "a = 2\n",
    "x_times_a = x * a\n",
    "x_times_y_elementwise = x * y\n",
    "print(x_times_a)\n",
    "print(x_times_y_elementwise)"
   ]
  },
  {
   "cell_type": "markdown",
   "metadata": {},
   "source": [
    "### Dot Product\n",
    "\n",
    "The dot product (also called inner-product) accepts two vectors of the same length as input and returns a scalar. The dot product is computed by performing an elementwise product and then computing the sum of the elements of the resulting vector.\n",
    "\n",
    "For two vectors\n",
    "\n",
    "$$\n",
    "\\begin{align*}\n",
    "x = \\begin{pmatrix}x_1&\\cdots&x_N\\end{pmatrix},\\ y = \\begin{pmatrix}y_1&\\cdots&y_N\\end{pmatrix}\n",
    "\\end{align*}\n",
    "$$\n",
    "the dot product is computed as\n",
    "$$\n",
    "\\begin{align*}\n",
    "\\boldsymbol{x} \\cdot \\boldsymbol{y} &= \\sum_{i=1}^N x_i y_i, \\\\\n",
    "    &= x_1 y_1 + \\cdots + x_N y_N.\n",
    "\\end{align*}\n",
    "$$\n",
    "\n",
    "Alternatively, the dot product can be thought of as a matrix multiplication,\n",
    "\n",
    "$$\n",
    "\\boldsymbol{x} \\cdot \\boldsymbol{y} = \\boldsymbol{x}^{\\mathrm{T}}\\boldsymbol{y}.\n",
    "$$\n",
    "\n",
    "The dot product is related to the angle between two vectors by\n",
    "\n",
    "$$\n",
    "\\boldsymbol{x} \\cdot \\boldsymbol{y} = \\| \\boldsymbol{x} \\| \\| \\boldsymbol{y} \\| \\cos \\theta\n",
    "$$\n",
    "\n",
    "where $\\theta$ is the angle between the two vectors.\n",
    "\n",
    "The dot product is ubiquitous in machine learning with many applications, including:\n",
    "* Multiplying a vector of weights $\\boldsymbol{w}$ against a vector of inputs $\\boldsymbol{x}$, i.e., $\\boldsymbol{y} = \\boldsymbol{w}\\boldsymbol{x} + b$\n",
    "* Checking the similarity between two vectors\n",
    "* Use in the attention mechanisms of transformers\n",
    "\n",
    "If some of these uses of the dot product are unfamiliar right now, that is ok. We will build up to them in later classes. For now it is important to be comfortable computing the dot product."
   ]
  },
  {
   "cell_type": "code",
   "execution_count": 8,
   "metadata": {},
   "outputs": [
    {
     "name": "stdout",
     "output_type": "stream",
     "text": [
      "14\n"
     ]
    }
   ],
   "source": [
    "x = np.array([1, 2, 3])\n",
    "y = np.array([1, 2, 3])\n",
    "\n",
    "x_dot_y = np.dot(x, y)\n",
    "\n",
    "print(x_dot_y)"
   ]
  },
  {
   "cell_type": "markdown",
   "metadata": {},
   "source": [
    "### Cross Product\n",
    "\n",
    "The cross product or vector product accepts two vectors (usually three-dimensional vectors in Euclidean space) and returns a vector of the same size as output. The cross product is defined by\n",
    "\n",
    "$$\n",
    "\\boldsymbol{x} \\times \\boldsymbol{y} = \\|\\boldsymbol{x}\\| \\| \\boldsymbol{y} \\| \\sin \\left(\\theta\\right) \\boldsymbol{n}\n",
    "$$\n",
    "\n",
    "where $\\theta$ is the angle between $\\boldsymbol{x}$ and $\\boldsymbol{y}$ in the plane they span and $\\boldsymbol{n}$ is the unit vector perpendicular to $\\boldsymbol{x}$ and $\\boldsymbol{y}$, according to the right hand rule.\n",
    "\n",
    "The cross product can most intuitively be thought of as producing the vector which points out of a plane given two vectors which span that plane. If this sounds ambiguous, it is! We use the right hand rule resolve the ambiguity. If we are computing $\\boldsymbol{c} = \\boldsymbol{a} \\times \\boldsymbol{b}$, then we can imagine $\\boldsymbol{c}$ pointing in the direction of our thumb if $\\boldsymbol{a}$ and $\\boldsymbol{b}$ are pointing in the directions of our second and third fingers respectively.\n",
    "\n",
    "The cross product has fewer applications in machine learning than the dot product. However, it is important in engineering, 3D graphics, and physics, and so it is encountered often in applied machine learning, and important to know for this reason."
   ]
  },
  {
   "cell_type": "markdown",
   "metadata": {},
   "source": [
    "## Matrices\n",
    "\n",
    "A matrix is a rectangular array of numbers used to represent a mathematical or physical object, or the properties of a mathematical or physical object. Unlike a vector which can only have 1 row and $N$ columns, or $N$ rows and 1 column, a matrix can have $N$ rows and $M$ columns.\n",
    "\n",
    "Matrices are usually denoted by capital letters. In this class, matrices will be capital letters, bolded and italicized, e.g., $\\boldsymbol{A}$.\n",
    "\n",
    "We can use a shorthand to denote the elements of a matrix, e.g.,\n",
    "\n",
    "$$\n",
    "\\boldsymbol{A} = \\begin{bmatrix}a_{ij}\\end{bmatrix}_{1\\leq i \\leq N, 1 \\leq j \\leq M},\n",
    "$$\n",
    "\n",
    "which is equivalent to\n",
    "\n",
    "$$\n",
    "\\boldsymbol{A} = \\begin{pmatrix}\n",
    "a_{1,1}& \\cdots & a_{1,M} \\\\\n",
    "\\vdots& \\ddots & \\vdots \\\\\n",
    "a_{N,1}& \\cdots & a_{N,M} \\\\\n",
    "\\end{pmatrix}\n",
    "$$\n",
    "\n",
    "Matrices naturally arise anywhere it makes sense to organize data into a 2 dimensional grid. The following are all examples of matrices.\n",
    "\n",
    "The position $\\boldsymbol{p}=\\begin{pmatrix}p_x&p_y&p_z\\end{pmatrix}$ of an object measured at $N$ points in time can be represented as an $N \\times 3$ matrix,\n",
    "\n",
    "$$\n",
    "\\boldsymbol{P} =\n",
    "\\begin{pmatrix}\n",
    "p_x(t_1) & p_y(t_1) & p_z(t_1) \\\\\n",
    "\\vdots & \\vdots & \\vdots \\\\\n",
    "p_x(t_N) & p_y(t_N) & p_z(t_N) \\\\\n",
    "\\end{pmatrix}.\n",
    "$$\n",
    "\n",
    "The correlation of each pair of random variables, $X_i, X_j$ in a random vector of $N$ random variables, $\\mathbf{X} = \\begin{pmatrix}X_1&\\cdots&X_N\\end{pmatrix}$ can be represented as an $N \\times N$ matrix,\n",
    "\n",
    "$$\n",
    "\\boldsymbol{C} = \\begin{bmatrix}c_{ij}\\end{bmatrix}_{1 \\leq i,j \\leq N},\\ c_{ij} = \\mathrm{corr}\\left(X_i, X_j\\right).\n",
    "$$\n",
    "\n",
    "\n",
    "The adjacency matrix specifies, for a graph with $N$ vertices, whether or not each vertex is connected to each other vertex. For example,\n",
    "\n",
    "$$\n",
    "\\boldsymbol{A} =\n",
    "\\begin{pmatrix}\n",
    "0&1&1 \\\\\n",
    "1&0&1 \\\\\n",
    "1&1&0\n",
    "\\end{pmatrix},\n",
    "$$\n",
    "\n",
    "specifies a fully connected graph with $N=3$ vertices.\n",
    "\n",
    "We can describe the shape of a matrix by describing the set of matrices it is drawn from. As with vectors, we use a blackboard bolded symbol to denote the type of scalars its elements are comprised of (e.g., integers, reals) and a pair of superscripts to denote the shape of the matrix. The first superscript always denotes the number of rows and the second superscript always denotes the number of columns.\n",
    "\n",
    "To say that a matrix is real valued and has a 2 rows and 3 columns we write\n",
    "$$\n",
    "\\boldsymbol{X} \\in \\mathbb{R}^{2\\times3},\\\n",
    "\\boldsymbol{X} = \\begin{pmatrix}\n",
    "    x_{1,1}&x_{1,2}&x_{1,3}\\\\\n",
    "    x_{2,1}&x_{2,2}&x_{2,3}\\\\\n",
    "\\end{pmatrix}.\n",
    "$$\n",
    "\n",
    "Note that the subscripts of the indices follow the row, column convention.\n",
    "\n",
    "To say that a matrix is complex valued and has a 3 rows and 2 columns we write\n",
    "\n",
    "$$\n",
    "\\boldsymbol{Z} \\in \\mathbb{C}^{3\\times2},\\\n",
    "\\boldsymbol{Z} = \\begin{pmatrix}\n",
    "    z_{1,1}&z_{1,2}\\\\\n",
    "    z_{2,1}&z_{2,2}\\\\\n",
    "    z_{3,1}&z_{3,2}\\\\\n",
    "\\end{pmatrix}.\n",
    "$$\n",
    "\n",
    "In Python, `numpy` is usually the library of choice for working with matrices. Some basic examples are below. An in depth review will be covered in a later class."
   ]
  },
  {
   "cell_type": "code",
   "execution_count": 9,
   "metadata": {},
   "outputs": [
    {
     "name": "stdout",
     "output_type": "stream",
     "text": [
      "[[1 2 3]\n",
      " [4 5 6]\n",
      " [7 8 9]]\n"
     ]
    }
   ],
   "source": [
    "example_array = np.array([[1, 2, 3], [4, 5, 6], [7, 8, 9]])\n",
    "\n",
    "print(example_array)"
   ]
  },
  {
   "cell_type": "markdown",
   "metadata": {},
   "source": [
    "## Matrix Operations\n",
    "\n",
    "Like vector operations, matrix operations are useful both for providing a concise description of potentially many arithmetic operations and for representing phenomena in the physical world. Also like vector operations, some matrix operations are performed elementwise (where each element of one matrix is combined with each element of another matrix to create a new matrix of the same size and shape) and some matrix operations are performed by applying a special order of operations. In general, formulating many arithmetic operations as matrix operations can help speed them up, by taking advantage of parallel computing techniques, like vectorized CPU operations or GPU operations. We will cover parallel operations in a later class, but for now it is helpful to know that one of the benefits of formulating computations as matrix operations is a speed benefit through parallel processing. \n",
    "\n",
    "### Addition and Subtractions\n",
    "\n",
    "Like vectors, matrices are added and subtracted by adding and subtracting their elements.\n",
    "\n",
    "Using shorthand notation, to perform\n",
    "\n",
    "$$\n",
    "\\boldsymbol{Z} = \\boldsymbol{X} \\pm \\boldsymbol{Y}\n",
    "$$\n",
    "\n",
    "we can add or subtract the elements,\n",
    "\n",
    "$$\n",
    "\\begin{bmatrix}z_{ij}\\end{bmatrix} = \\begin{bmatrix}x_{ij} \\pm y_{ij}\\end{bmatrix}.\n",
    "$$\n",
    "\n",
    "Matrix addition and subtraction is straightforward with `numpy`."
   ]
  },
  {
   "cell_type": "code",
   "execution_count": 10,
   "metadata": {},
   "outputs": [
    {
     "name": "stdout",
     "output_type": "stream",
     "text": [
      "[[ 2  3  4]\n",
      " [ 5  6  7]\n",
      " [ 8  9 10]]\n"
     ]
    }
   ],
   "source": [
    "x_example_matrix = np.array([[1, 2, 3], [4, 5, 6], [7, 8, 9]])\n",
    "y_example_matrix = np.array([[1, 1, 1], [1, 1, 1], [1, 1, 1]])\n",
    "z_example_matrix = x_example_matrix + y_example_matrix\n",
    "print(z_example_matrix)"
   ]
  },
  {
   "cell_type": "markdown",
   "metadata": {},
   "source": [
    "### Scalar Multiplication and Division\n",
    "\n",
    "Also like vectors, we can multiply or divide a matrix by a scalar by multiplying or dividing its elements by a scalar.\n",
    "\n",
    "To perform the multiplication\n",
    "\n",
    "$$\n",
    "\\boldsymbol{Y} = a\\boldsymbol{X}\n",
    "$$\n",
    "\n",
    "we can multiply each element of $\\boldsymbol{X}$ by $a$,\n",
    "\n",
    "$$\n",
    "\\begin{bmatrix}y_{ij}\\end{bmatrix} = \\begin{bmatrix}a x_{ij}\\end{bmatrix}.\n",
    "$$\n",
    "\n",
    "Scalar multiplication and division in `numpy` is performed by using Pythons multiplication (`*`) and division operators (`/`) to multiply or divide a matrix by a single number."
   ]
  },
  {
   "cell_type": "code",
   "execution_count": 11,
   "metadata": {},
   "outputs": [
    {
     "name": "stdout",
     "output_type": "stream",
     "text": [
      "[[ 2  4  6]\n",
      " [ 8 10 12]\n",
      " [14 16 18]]\n"
     ]
    }
   ],
   "source": [
    "x_example_matrix = np.array([[1, 2, 3], [4, 5, 6], [7, 8, 9]])\n",
    "a_example_constant = 10\n",
    "y_example_matrix = x_example_matrix * a\n",
    "print(y_example_matrix)"
   ]
  },
  {
   "cell_type": "markdown",
   "metadata": {},
   "source": [
    "### Elementwise Multiplication and Division\n",
    "\n",
    "Elementwise multiplication or division of matrices is often called a Hadamard product. The Hadamard product is a common step in algorithms. For example, the Hadamard product can specify applying a mask to remove some elements of a matrix by setting them to 0.\n",
    "\n",
    "As with vectors, the Hadamard product is denoted using a circle, $\\circ$.\n",
    "\n",
    "Using shorthand, the computation of the Hadamard product\n",
    "\n",
    "$$\n",
    "\\boldsymbol{Z} = \\boldsymbol{X} \\circ \\boldsymbol{Y}\n",
    "$$\n",
    "\n",
    "is given by\n",
    "\n",
    "$$\n",
    "\\begin{bmatrix}z_{ij}\\end{bmatrix} = \\begin{bmatrix}x_{ij} y_{ij}\\end{bmatrix}.\n",
    "$$\n",
    "\n",
    "In `numpy` the `*` operator specifies a Hadamard product."
   ]
  },
  {
   "cell_type": "code",
   "execution_count": 12,
   "metadata": {},
   "outputs": [
    {
     "name": "stdout",
     "output_type": "stream",
     "text": [
      "[[1 2 3]\n",
      " [0 0 0]\n",
      " [7 8 9]]\n"
     ]
    }
   ],
   "source": [
    "x_example_matrix = np.array([[1, 2, 3], [4, 5, 6], [7, 8, 9]])\n",
    "y_example_matrix = np.array([[1, 1, 1], [0, 0, 0], [1, 1, 1]])\n",
    "z_example_matrix = x_example_matrix * y_example_matrix\n",
    "print(z_example_matrix)"
   ]
  },
  {
   "cell_type": "markdown",
   "metadata": {},
   "source": [
    "### Matrix Multiplication\n",
    "\n",
    "So long as the dot product is second nature, it is easy to define and compute matrix multiplication.\n",
    "\n",
    "Order matters for matrix multiplication; i.e., matrix multiplication is not commutative.\n",
    "\n",
    "Provided the left matrix has the same number of columns as the right matrix has rows, matrix multiplication is computed by taking the dot product of each row of the left matrix with each column of the right matrix.\n",
    "\n",
    "For two matrices $\\boldsymbol{R}$ and $\\boldsymbol{C}$ where\n",
    "\n",
    "$$\n",
    "\\begin{align}\n",
    "\\boldsymbol{R} &\\in \\mathbb{R}^{L \\times M}, \\\\\n",
    "\\boldsymbol{C} &\\in \\mathbb{R}^{M \\times N},\n",
    "\\end{align}\n",
    "$$\n",
    "\n",
    "the product $\\boldsymbol{P} = \\boldsymbol{R}\\boldsymbol{C}$ is given by\n",
    "\n",
    "$$\n",
    "\\begin{pmatrix}\n",
    "r_1 \\cdot c_1 & \\cdots & r_1 \\cdot c_N \\\\\n",
    "\\vdots & \\ddots & \\vdots \\\\\n",
    "r_L \\cdot c_1 & \\cdots & r_L \\cdot c_N\n",
    "\\end{pmatrix}\n",
    "\n",
    "=\n",
    "\\begin{pmatrix}\n",
    "\\leftarrow & r_1 & \\rightarrow \\\\\n",
    "\\vdots & \\vdots & \\vdots \\\\\n",
    "\\leftarrow & r_L & \\rightarrow \\\\\n",
    "\\end{pmatrix}\n",
    "\n",
    "\\begin{pmatrix}\n",
    "\\uparrow & \\cdots & \\uparrow \\\\\n",
    "\\boldsymbol{c_1} & \\cdots & \\boldsymbol{c_N} \\\\\n",
    "\\downarrow & \\cdots & \\downarrow\n",
    "\\end{pmatrix}\n",
    "$$\n",
    "\n",
    "where $r_l \\cdot c_n$ is the dot product of row $l$ in $\\boldsymbol{R}$ with column $n$ in $C$.\n",
    "\n",
    "Matrix multiplication can be performed in `numpy` using the `@` operator or the `dot()` function."
   ]
  },
  {
   "cell_type": "code",
   "execution_count": 13,
   "metadata": {},
   "outputs": [
    {
     "name": "stdout",
     "output_type": "stream",
     "text": [
      "[[22 28]\n",
      " [49 64]]\n",
      "[[22 28]\n",
      " [49 64]]\n"
     ]
    }
   ],
   "source": [
    "r_example_matrix = np.array([[1, 2, 3], [4, 5, 6]])\n",
    "c_example_matrix = np.array([[1, 2], [3, 4], [5, 6]])\n",
    "p_example_matrix_product = r_example_matrix @ c_example_matrix\n",
    "print(p_example_matrix_product)\n",
    "p_example_matrix_product_via_dot = np.dot(r_example_matrix, c_example_matrix)\n",
    "print(p_example_matrix_product_via_dot)"
   ]
  }
 ],
 "metadata": {
  "kernelspec": {
   "display_name": "Python 3",
   "language": "python",
   "name": "python3"
  },
  "language_info": {
   "codemirror_mode": {
    "name": "ipython",
    "version": 3
   },
   "file_extension": ".py",
   "mimetype": "text/x-python",
   "name": "python",
   "nbconvert_exporter": "python",
   "pygments_lexer": "ipython3",
   "version": "3.12.1"
  }
 },
 "nbformat": 4,
 "nbformat_minor": 2
}
