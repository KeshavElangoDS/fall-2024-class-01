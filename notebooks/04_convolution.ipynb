{
 "cells": [
  {
   "cell_type": "markdown",
   "metadata": {},
   "source": [
    "# Convolution and Correlation\n",
    "\n",
    "Here we motivate and introduce the signal processing definitions of convolution and correlation. Understanding why convolution and correlation are useful for patten recognition will be key to understanding how neural networks detect patterns in data, and especially key to understanding how neural networks can detect subtle patterns in data."
   ]
  },
  {
   "cell_type": "code",
   "execution_count": null,
   "metadata": {},
   "outputs": [],
   "source": []
  }
 ],
 "metadata": {
  "language_info": {
   "name": "python"
  }
 },
 "nbformat": 4,
 "nbformat_minor": 2
}
